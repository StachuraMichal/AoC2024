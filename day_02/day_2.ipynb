{
 "cells": [
  {
   "cell_type": "code",
   "execution_count": null,
   "metadata": {},
   "outputs": [],
   "source": [
    "from pathlib import Path\n",
    "import numpy as np\n",
    "from itertools import combinations"
   ]
  },
  {
   "cell_type": "code",
   "execution_count": null,
   "metadata": {},
   "outputs": [],
   "source": [
    "with open(\"input.txt\") as file:\n",
    "    input_data = file.readlines()"
   ]
  },
  {
   "cell_type": "code",
   "execution_count": null,
   "metadata": {},
   "outputs": [],
   "source": [
    "input_data_test = \"\"\"7 6 4 2 1\n",
    "1 2 7 8 9\n",
    "9 7 6 2 1\n",
    "1 3 2 4 5\n",
    "8 6 4 4 1\n",
    "1 3 6 7 9\"\"\"\n",
    "input_data_test = input_data_test.split(\"\\n\")"
   ]
  },
  {
   "cell_type": "code",
   "execution_count": null,
   "metadata": {},
   "outputs": [],
   "source": [
    "data = []\n",
    "for line in input_data:\n",
    "    data.append(np.array([int(i) for i in line.split()]))"
   ]
  },
  {
   "cell_type": "code",
   "execution_count": null,
   "metadata": {},
   "outputs": [],
   "source": [
    "def is_safe(arr: np.ndarray) -> bool:\n",
    "    diff = arr[:-1] - arr[1:]\n",
    "    steady_increasing = np.all(diff > 0) and np.all(diff <= 3)\n",
    "    steady_decreasing = np.all(diff < 0) and np.all(diff >= -3)\n",
    "    return steady_increasing or steady_decreasing"
   ]
  },
  {
   "cell_type": "markdown",
   "metadata": {},
   "source": [
    "### Part one"
   ]
  },
  {
   "cell_type": "code",
   "execution_count": null,
   "metadata": {},
   "outputs": [],
   "source": [
    "safe_reports = 0\n",
    "safe_report_list = []\n",
    "diff_data = []\n",
    "for arr in data:\n",
    "    safe_reports += is_safe(arr)\n",
    "print(safe_reports)"
   ]
  },
  {
   "cell_type": "markdown",
   "metadata": {},
   "source": [
    "### Part two"
   ]
  },
  {
   "cell_type": "code",
   "execution_count": null,
   "metadata": {},
   "outputs": [],
   "source": [
    "def check_combinations(arr: np.ndarray) -> bool:\n",
    "    for comb in combinations(arr.tolist(), arr.shape[0] - 1):\n",
    "        if is_safe(np.array(comb)):\n",
    "            return True\n",
    "    return False"
   ]
  },
  {
   "cell_type": "code",
   "execution_count": null,
   "metadata": {},
   "outputs": [],
   "source": [
    "safe_reports = 0\n",
    "safe_report_list = []\n",
    "diff_data = []\n",
    "for arr in data:\n",
    "    if is_safe(arr):\n",
    "        safe_reports += 1\n",
    "        safe_report_list.append(True)\n",
    "        continue\n",
    "    else:\n",
    "        if check_combinations(arr):\n",
    "            safe_reports += 1\n",
    "            safe_report_list.append(True)\n",
    "            continue\n",
    "    safe_report_list.append(False)\n",
    "print(safe_reports)"
   ]
  }
 ],
 "metadata": {
  "kernelspec": {
   "display_name": "Python 3",
   "language": "python",
   "name": "python3"
  },
  "language_info": {
   "codemirror_mode": {
    "name": "ipython",
    "version": 3
   },
   "file_extension": ".py",
   "mimetype": "text/x-python",
   "name": "python",
   "nbconvert_exporter": "python",
   "pygments_lexer": "ipython3",
   "version": "3.12.3"
  }
 },
 "nbformat": 4,
 "nbformat_minor": 2
}
