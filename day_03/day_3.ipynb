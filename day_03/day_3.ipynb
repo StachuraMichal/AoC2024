{
 "cells": [
  {
   "cell_type": "code",
   "execution_count": null,
   "metadata": {},
   "outputs": [],
   "source": [
    "import re\n",
    "import numpy as np"
   ]
  },
  {
   "cell_type": "code",
   "execution_count": null,
   "metadata": {},
   "outputs": [],
   "source": [
    "input_data = []\n",
    "with open (\"input.txt\") as file:\n",
    "    input_data = file.read()"
   ]
  },
  {
   "cell_type": "markdown",
   "metadata": {},
   "source": [
    "### Part one"
   ]
  },
  {
   "cell_type": "code",
   "execution_count": null,
   "metadata": {},
   "outputs": [],
   "source": [
    "pattern = r\"mul\\(\\d{1,3},\\d{1,3}\\)\"\n",
    "matches = re.findall(pattern, input_data)\n",
    "\n",
    "result = 0\n",
    "result_list = []\n",
    "for item in matches:\n",
    "    numbers = re.findall(r\"\\d+\", item)\n",
    "    numbers = [int(i) for i in numbers]\n",
    "    if len(numbers) < 2:\n",
    "        raise RuntimeError(\"not enough arguments\")\n",
    "    mul = numbers[0] * numbers[1]\n",
    "    result_list.append(mul)\n",
    "    result += mul\n",
    "\n",
    "result"
   ]
  },
  {
   "cell_type": "markdown",
   "metadata": {},
   "source": [
    "### Part two"
   ]
  },
  {
   "cell_type": "code",
   "execution_count": null,
   "metadata": {},
   "outputs": [],
   "source": [
    "do_pos = []\n",
    "dont_pos = []\n",
    "for m in re.finditer(r\"do\\(\\)\", input_data):\n",
    "    do_pos.append(m.start())\n",
    "\n",
    "for m in re.finditer(r\"don't\\(\\)\", input_data):\n",
    "    dont_pos.append(m.start())\n",
    "    \n",
    "do_pos = do_pos\n",
    "dont_pos = dont_pos"
   ]
  },
  {
   "cell_type": "code",
   "execution_count": null,
   "metadata": {},
   "outputs": [],
   "source": [
    "def get_end_range(start_range: int, do_pos: np.array, fallback_end: int) -> int:\n",
    "    for do_id in do_pos:\n",
    "        if do_id > start_range:\n",
    "            return int(do_id)\n",
    "    return fallback_end"
   ]
  },
  {
   "cell_type": "code",
   "execution_count": null,
   "metadata": {},
   "outputs": [],
   "source": [
    "off_ranges = []\n",
    "for start_range in dont_pos:\n",
    "    off_ranges.append([start_range, get_end_range(start_range, do_pos, len(input_data) - 1)])"
   ]
  },
  {
   "cell_type": "code",
   "execution_count": null,
   "metadata": {},
   "outputs": [],
   "source": [
    "valid_ids = np.array([i for i in range(len(input_data))])\n",
    "for off_range in off_ranges:\n",
    "    valid_ids[off_range[0]: off_range[1]] = -1\n",
    "valid_ids = valid_ids[valid_ids>=0]\n",
    "\n",
    "data_filtered = np.array([i for i in input_data])\n",
    "data_filtered = \"\".join(data_filtered[valid_ids].tolist())"
   ]
  },
  {
   "cell_type": "code",
   "execution_count": null,
   "metadata": {},
   "outputs": [],
   "source": [
    "pattern = r\"mul\\(\\d{1,3},\\d{1,3}\\)\"\n",
    "matches = re.findall(pattern, data_filtered)\n",
    "\n",
    "result = 0\n",
    "result_list = []\n",
    "for item in matches:\n",
    "    numbers = re.findall(r\"\\d+\", item)\n",
    "    numbers = [int(i) for i in numbers]\n",
    "    if len(numbers) < 2:\n",
    "        raise RuntimeError(\"not enough arguments\")\n",
    "    mul = numbers[0] * numbers[1]\n",
    "    result_list.append(mul)\n",
    "    result += mul\n",
    "result"
   ]
  }
 ],
 "metadata": {
  "kernelspec": {
   "display_name": "Python 3",
   "language": "python",
   "name": "python3"
  },
  "language_info": {
   "codemirror_mode": {
    "name": "ipython",
    "version": 3
   },
   "file_extension": ".py",
   "mimetype": "text/x-python",
   "name": "python",
   "nbconvert_exporter": "python",
   "pygments_lexer": "ipython3",
   "version": "3.12.3"
  }
 },
 "nbformat": 4,
 "nbformat_minor": 2
}
