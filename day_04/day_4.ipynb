{
 "cells": [
  {
   "cell_type": "code",
   "execution_count": null,
   "metadata": {},
   "outputs": [],
   "source": [
    "import re\n",
    "import numpy as np\n",
    "import cv2 as cv\n",
    "from matplotlib import pyplot as plt"
   ]
  },
  {
   "cell_type": "code",
   "execution_count": null,
   "metadata": {},
   "outputs": [],
   "source": [
    "input_data = []\n",
    "with open (\"input.txt\") as file:\n",
    "    input_data = file.readlines()"
   ]
  },
  {
   "cell_type": "code",
   "execution_count": null,
   "metadata": {},
   "outputs": [],
   "source": [
    "test_data = \\\n",
    "\"\"\"MMMSXXMASM\n",
    "MSAMXMSMSA\n",
    "AMXSXMAAMM\n",
    "MSAMASMSMX\n",
    "XMASAMXAMM\n",
    "XXAMMXXAMA\n",
    "SMSMSASXSS\n",
    "SAXAMASAAA\n",
    "MAMMMXMMMM\n",
    "MXMXAXMASX\"\"\"\n",
    "test_data = test_data.split(\"\\n\")"
   ]
  },
  {
   "cell_type": "code",
   "execution_count": null,
   "metadata": {},
   "outputs": [],
   "source": [
    "\n",
    "data_arr = np.array([[i for i in j] for j in input_data])\n"
   ]
  },
  {
   "cell_type": "code",
   "execution_count": null,
   "metadata": {},
   "outputs": [],
   "source": [
    "test_data_arr = np.array([[i for i in j] for j in test_data])"
   ]
  },
  {
   "cell_type": "markdown",
   "metadata": {},
   "source": [
    "### Part one"
   ]
  },
  {
   "cell_type": "code",
   "execution_count": null,
   "metadata": {},
   "outputs": [],
   "source": [
    "def get_diagonal(text_arr: np.ndarray) -> np.array:\n",
    "    height = text_arr.shape[0] + text_arr.shape[1] - 1\n",
    "    extended_array = np.zeros((height, text_arr.shape[1]), dtype=text_arr.dtype)\n",
    "    extended_array[:text_arr.shape[0], :] = text_arr\n",
    "    result_array = np.zeros_like(extended_array)\n",
    "    for i in range(height):\n",
    "        for j in range(text_arr.shape[1]):\n",
    "            if j > i:\n",
    "                break\n",
    "            result_array[i, j] = extended_array[i - j, j]\n",
    "    return result_array"
   ]
  },
  {
   "cell_type": "code",
   "execution_count": null,
   "metadata": {},
   "outputs": [],
   "source": [
    "matches = 0\n",
    "pattern = r\"xmas\"\n",
    "for i in range(4):\n",
    "    rotated = np.rot90(data_arr, k=i)\n",
    "    diagonal = get_diagonal(rotated)\n",
    "    for line in rotated:\n",
    "        text = \"\".join(line.tolist())\n",
    "        xmas = re.findall(pattern, text, flags=(re.RegexFlag.IGNORECASE))\n",
    "        matches += len(xmas)\n",
    "    for line in diagonal:\n",
    "        text = \"\".join(line.tolist())\n",
    "        xmas = re.findall(pattern, text, flags=(re.RegexFlag.IGNORECASE))\n",
    "        matches += len(xmas)\n",
    "matches\n",
    "        "
   ]
  },
  {
   "cell_type": "markdown",
   "metadata": {},
   "source": [
    "### Part two"
   ]
  },
  {
   "cell_type": "code",
   "execution_count": null,
   "metadata": {},
   "outputs": [],
   "source": [
    "def is_x_mas(arr: np.ndarray, i: int, j: int) -> bool:\n",
    "    if arr[i, j] != \"A\":\n",
    "        return False\n",
    "    diags = []\n",
    "    diags.append(str(arr[i - 1, j - 1]) + arr[i + 1, j + 1])\n",
    "    diags.append(str(arr[i + 1, j - 1]) + arr[i - 1, j + 1])\n",
    "    for diag in diags:\n",
    "        if \"S\" not in diag or \"M\" not in diag:\n",
    "            return False\n",
    "    return True"
   ]
  },
  {
   "cell_type": "code",
   "execution_count": null,
   "metadata": {},
   "outputs": [],
   "source": [
    "xmas = 0\n",
    "for i in range(1, data_arr.shape[0] - 1):\n",
    "    for j in range(1, data_arr.shape[1] - 1):\n",
    "        xmas += is_x_mas(data_arr, i, j)\n",
    "xmas"
   ]
  }
 ],
 "metadata": {
  "kernelspec": {
   "display_name": "Python 3",
   "language": "python",
   "name": "python3"
  },
  "language_info": {
   "codemirror_mode": {
    "name": "ipython",
    "version": 3
   },
   "file_extension": ".py",
   "mimetype": "text/x-python",
   "name": "python",
   "nbconvert_exporter": "python",
   "pygments_lexer": "ipython3",
   "version": "3.12.3"
  }
 },
 "nbformat": 4,
 "nbformat_minor": 2
}
