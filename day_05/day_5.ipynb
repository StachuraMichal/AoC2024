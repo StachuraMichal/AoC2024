{
 "cells": [
  {
   "cell_type": "code",
   "execution_count": null,
   "metadata": {},
   "outputs": [],
   "source": [
    "import re\n",
    "import numpy as np\n",
    "import functools"
   ]
  },
  {
   "cell_type": "code",
   "execution_count": null,
   "metadata": {},
   "outputs": [],
   "source": [
    "test_text = \"\"\"47|53\n",
    "97|13\n",
    "97|61\n",
    "97|47\n",
    "75|29\n",
    "61|13\n",
    "75|53\n",
    "29|13\n",
    "97|29\n",
    "53|29\n",
    "61|53\n",
    "97|53\n",
    "61|29\n",
    "47|13\n",
    "75|47\n",
    "97|75\n",
    "47|61\n",
    "75|61\n",
    "47|29\n",
    "75|13\n",
    "53|13\n",
    "\n",
    "75,47,61,53,29\n",
    "97,61,53,29,13\n",
    "75,29,13\n",
    "75,97,47,61,53\n",
    "61,13,29\n",
    "97,13,75,29,47\"\"\""
   ]
  },
  {
   "cell_type": "code",
   "execution_count": null,
   "metadata": {},
   "outputs": [],
   "source": [
    "test_data = test_text.split(\"\\n\")"
   ]
  },
  {
   "cell_type": "code",
   "execution_count": null,
   "metadata": {},
   "outputs": [],
   "source": [
    "data = []\n",
    "with open(\"input.txt\") as f:\n",
    "    for line in f:\n",
    "        data.append(line.replace(\"\\n\", \"\"))"
   ]
  },
  {
   "cell_type": "code",
   "execution_count": null,
   "metadata": {},
   "outputs": [],
   "source": [
    "split_index = 0\n",
    "for i, line in enumerate(data):\n",
    "    if not line:\n",
    "        split_index = i\n",
    "rules = data[:split_index]\n",
    "updates = data[split_index + 1:]\n",
    "rule_numbers = []\n",
    "for idx, rule in enumerate(rules):\n",
    "    rule_nums = rule.split(\"|\")\n",
    "    rule_numbers.append([int(num) for num in rule_nums])\n",
    "    rules[idx] = \",\" + rule.replace(\"|\", \",.*,\") + \",\"\n",
    "updates_numbers = [[int(j) for j in i.split(\",\")] for i in updates]\n",
    "for idx, update in enumerate(updates):\n",
    "    updates[idx] = \",\" + update.replace(\",\", \",,\") + \",\" "
   ]
  },
  {
   "cell_type": "markdown",
   "metadata": {},
   "source": [
    "### Part one"
   ]
  },
  {
   "cell_type": "code",
   "execution_count": null,
   "metadata": {},
   "outputs": [],
   "source": [
    "def check_update(update: str, rules: list[str], rule_numbers: list[str]) -> bool:\n",
    "    for rule, nums in zip(rules, rule_numbers):\n",
    "        if ((\",\" + str(nums[0]) + \",\") in update) and ((\",\" + str(nums[1]) + \",\") in update):\n",
    "            if not (re.search(rule, update)):\n",
    "                return False\n",
    "    return True"
   ]
  },
  {
   "cell_type": "code",
   "execution_count": null,
   "metadata": {},
   "outputs": [],
   "source": [
    "correct_updates = []\n",
    "for idx, update in enumerate(updates):\n",
    "    if check_update(update, rules, rule_numbers):\n",
    "        correct_updates.append(updates_numbers[idx])\n"
   ]
  },
  {
   "cell_type": "code",
   "execution_count": null,
   "metadata": {},
   "outputs": [],
   "source": [
    "check_sum = 0\n",
    "for update in correct_updates:\n",
    "    check_sum += update[len(update) // 2]\n",
    "check_sum"
   ]
  },
  {
   "cell_type": "markdown",
   "metadata": {},
   "source": [
    "### Part two"
   ]
  },
  {
   "cell_type": "code",
   "execution_count": null,
   "metadata": {},
   "outputs": [],
   "source": [
    "left_dict = dict()\n",
    "right_dict= dict()\n",
    "for rule in rule_numbers:\n",
    "    if rule[0] in left_dict:    \n",
    "        left_dict[rule[0]].append(rule[1])\n",
    "    else:\n",
    "        left_dict[rule[0]] = [rule[1]]\n",
    "        \n",
    "for rule in rule_numbers:\n",
    "    if rule[1] in right_dict:    \n",
    "        right_dict[rule[1]].append(rule[0])\n",
    "    else:\n",
    "        right_dict[rule[1]] = [rule[0]]"
   ]
  },
  {
   "cell_type": "code",
   "execution_count": null,
   "metadata": {},
   "outputs": [],
   "source": [
    "def is_smaller(a: int, b: int) -> bool:\n",
    "    if a in left_dict:\n",
    "        if b in left_dict[a]:\n",
    "            return -1\n",
    "    if b in right_dict:\n",
    "        if a in right_dict[b]:\n",
    "            return 1\n",
    "    return 0"
   ]
  },
  {
   "cell_type": "code",
   "execution_count": null,
   "metadata": {},
   "outputs": [],
   "source": [
    "def correct_update(update_numbers: list[int], rules: list[str], rule_numbers: list[str]) -> str:\n",
    "    result_list = update_numbers.copy()\n",
    "    result_list = sorted(result_list, key=functools.cmp_to_key(is_smaller))\n",
    "    \n",
    "    return result_list"
   ]
  },
  {
   "cell_type": "code",
   "execution_count": null,
   "metadata": {},
   "outputs": [],
   "source": [
    "correct_updates = []\n",
    "for idx, update in enumerate(updates):\n",
    "    if not check_update(update, rules, rule_numbers):\n",
    "        correct_updates.append(correct_update(updates_numbers[idx], rules, rule_numbers))\n"
   ]
  },
  {
   "cell_type": "code",
   "execution_count": null,
   "metadata": {},
   "outputs": [],
   "source": [
    "check_sum = 0\n",
    "for update in correct_updates:\n",
    "    check_sum += update[len(update) // 2]\n",
    "check_sum"
   ]
  }
 ],
 "metadata": {
  "kernelspec": {
   "display_name": "Python 3",
   "language": "python",
   "name": "python3"
  },
  "language_info": {
   "codemirror_mode": {
    "name": "ipython",
    "version": 3
   },
   "file_extension": ".py",
   "mimetype": "text/x-python",
   "name": "python",
   "nbconvert_exporter": "python",
   "pygments_lexer": "ipython3",
   "version": "3.12.3"
  }
 },
 "nbformat": 4,
 "nbformat_minor": 2
}
