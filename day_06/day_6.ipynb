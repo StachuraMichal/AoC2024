{
 "cells": [
  {
   "cell_type": "code",
   "execution_count": null,
   "metadata": {},
   "outputs": [],
   "source": [
    "import numpy as np"
   ]
  },
  {
   "cell_type": "code",
   "execution_count": null,
   "metadata": {},
   "outputs": [],
   "source": [
    "test_text = \"\"\"....#.....\n",
    ".........#\n",
    "..........\n",
    "..#.......\n",
    ".......#..\n",
    "..........\n",
    ".#..^.....\n",
    "........#.\n",
    "#.........\n",
    "......#...\"\"\"\n",
    "test_data = np.array([[i for i in j] for j in test_text.split(\"\\n\")])"
   ]
  },
  {
   "cell_type": "code",
   "execution_count": null,
   "metadata": {},
   "outputs": [],
   "source": [
    "with open(\"input.txt\") as f:\n",
    "  data_text = f.readlines()\n",
    "data = np.array([[i for i in j.replace(\"\\n\", \"\")] for j in data_text])"
   ]
  },
  {
   "cell_type": "code",
   "execution_count": null,
   "metadata": {},
   "outputs": [],
   "source": [
    "data_arr = data.copy()"
   ]
  },
  {
   "cell_type": "code",
   "execution_count": null,
   "metadata": {},
   "outputs": [],
   "source": [
    "def get_next_step(direction: str):\n",
    "  if direction == \"up\":\n",
    "    return (-1, 0)\n",
    "  if direction == \"down\":\n",
    "    return (1, 0)\n",
    "  if direction == \"left\":\n",
    "    return (0, -1)\n",
    "  if direction == \"right\":\n",
    "    return (0, 1)\n",
    "  \n",
    "def check_next_step(direction: str, pos: tuple, board: np.ndarray):\n",
    "  next_step = get_next_step(direction)\n",
    "  forward_pos = (pos[0] + next_step[0], pos[1] + next_step[1])\n",
    "  if forward_pos[0] < 0 or forward_pos[1] < 0:\n",
    "    return -1\n",
    "  if forward_pos[0] >= board.shape[0] or forward_pos[1] >= board.shape[1]:\n",
    "    return -1\n",
    "  forward_char = board[forward_pos]\n",
    "  if forward_char == \"#\":\n",
    "    return False\n",
    "  return True\n",
    "\n",
    "def turn_right(direction: str):\n",
    "  if direction == \"up\":\n",
    "    return \"right\"\n",
    "  if direction == \"down\":\n",
    "    return \"left\"\n",
    "  if direction == \"left\":\n",
    "    return \"up\"\n",
    "  if direction == \"right\":\n",
    "    return \"down\"\n",
    "  \n",
    "def sum_pos(pos1: tuple, pos2: tuple):\n",
    "  return (pos1[0] + pos2[0], pos1[1] + pos2[1])"
   ]
  },
  {
   "cell_type": "markdown",
   "metadata": {},
   "source": [
    "### Part one"
   ]
  },
  {
   "cell_type": "code",
   "execution_count": null,
   "metadata": {},
   "outputs": [],
   "source": [
    "start_idx = np.where(data_arr == \"^\")\n",
    "history_up = np.zeros_like(data_arr, dtype=int)\n",
    "history_down = np.zeros_like(history_up)\n",
    "history_left = np.zeros_like(history_up)\n",
    "history_right = np.zeros_like(history_up)\n",
    "history = dict()\n",
    "history[\"up\"] = history_up\n",
    "history[\"down\"] = history_down\n",
    "history[\"left\"] = history_left\n",
    "history[\"right\"] = history_right\n",
    "result_arr = np.zeros_like(history_up)\n",
    "curr_dir = \"up\"\n",
    "current_pos = start_idx\n",
    "\n",
    "while True:\n",
    "  next_step_check = check_next_step(curr_dir, current_pos, data_arr)\n",
    "  if next_step_check == True:\n",
    "    if history[curr_dir][current_pos] > 0:\n",
    "      break\n",
    "    history[curr_dir][current_pos] = 1\n",
    "    result_arr[current_pos] = 1\n",
    "    next_step = get_next_step(curr_dir)\n",
    "    current_pos = (current_pos[0] + next_step[0], current_pos[1] + next_step[1])\n",
    "  elif (next_step_check == False):\n",
    "    curr_dir = turn_right(curr_dir)\n",
    "  else:\n",
    "    result_arr[current_pos] = 1\n",
    "    break\n",
    "print(result_arr.sum())\n",
    "  "
   ]
  },
  {
   "cell_type": "markdown",
   "metadata": {},
   "source": [
    "### Part two"
   ]
  },
  {
   "cell_type": "code",
   "execution_count": null,
   "metadata": {},
   "outputs": [],
   "source": [
    "def check_obstruction(obstruction_pos: tuple):\n",
    "  obstructed_data = data_arr.copy()\n",
    "  obstructed_data[obstruction_pos] = \"#\"\n",
    "  start_idx = np.where(obstructed_data == \"^\")\n",
    "  # start_idx = [int(start_idx[0][0]), int(start_idx[1][0])]\n",
    "  history_up = np.zeros_like(obstructed_data, dtype=int)\n",
    "  # history_up[start_idx] = 1\n",
    "  history_down = np.zeros_like(history_up)\n",
    "  history_left = np.zeros_like(history_up)\n",
    "  history_right = np.zeros_like(history_up)\n",
    "  history = dict()\n",
    "  history[\"up\"] = history_up\n",
    "  history[\"down\"] = history_down\n",
    "  history[\"left\"] = history_left\n",
    "  history[\"right\"] = history_right\n",
    "  result_arr = np.zeros_like(history_up)\n",
    "  curr_dir = \"up\"\n",
    "  current_pos = start_idx\n",
    "  while True:\n",
    "    next_step_check = check_next_step(curr_dir, current_pos, obstructed_data)\n",
    "    if next_step_check == True:\n",
    "      if history[curr_dir][current_pos] > 0:\n",
    "        # print(obstructed_data)\n",
    "        # print(result_arr)\n",
    "        return True\n",
    "      history[curr_dir][current_pos] = 1\n",
    "      result_arr[current_pos] = 1\n",
    "      next_step = get_next_step(curr_dir)\n",
    "      current_pos = (current_pos[0] + next_step[0], current_pos[1] + next_step[1])\n",
    "    elif (next_step_check == False):\n",
    "      curr_dir = turn_right(curr_dir)\n",
    "    else:\n",
    "      result_arr[current_pos] = 1\n",
    "      return False\n",
    "  "
   ]
  },
  {
   "cell_type": "code",
   "execution_count": null,
   "metadata": {},
   "outputs": [],
   "source": [
    "possible_obstructions_input_arr = result_arr.copy()\n",
    "possible_obstructions_input_arr[start_idx] = 0\n",
    "possible_obstructions = np.where(possible_obstructions_input_arr == 1)\n",
    "possible_obstructions = [(x, y) for x, y in zip(possible_obstructions[0], possible_obstructions[1])]\n",
    "valid_obstructions = 0\n",
    "iterator = 0\n",
    "for pos in possible_obstructions:\n",
    "  iterator += 1\n",
    "  if check_obstruction(pos):\n",
    "    valid_obstructions += 1\n",
    "  if iterator % 100 == 0:\n",
    "    print(iterator, len(possible_obstructions))\n",
    "valid_obstructions"
   ]
  }
 ],
 "metadata": {
  "kernelspec": {
   "display_name": "Python 3",
   "language": "python",
   "name": "python3"
  },
  "language_info": {
   "codemirror_mode": {
    "name": "ipython",
    "version": 3
   },
   "file_extension": ".py",
   "mimetype": "text/x-python",
   "name": "python",
   "nbconvert_exporter": "python",
   "pygments_lexer": "ipython3",
   "version": "3.12.3"
  }
 },
 "nbformat": 4,
 "nbformat_minor": 2
}
