{
 "cells": [
  {
   "cell_type": "code",
   "execution_count": null,
   "metadata": {},
   "outputs": [],
   "source": [
    "import numpy as np\n",
    "from itertools import product"
   ]
  },
  {
   "cell_type": "code",
   "execution_count": null,
   "metadata": {},
   "outputs": [],
   "source": [
    "test_text=\"\"\"190: 10 19\n",
    "3267: 81 40 27\n",
    "83: 17 5\n",
    "156: 15 6\n",
    "7290: 6 8 6 15\n",
    "161011: 16 10 13\n",
    "192: 17 8 14\n",
    "21037: 9 7 18 13\n",
    "292: 11 6 16 20\"\"\"\n",
    "\n",
    "test_data = test_text.split(\"\\n\")"
   ]
  },
  {
   "cell_type": "code",
   "execution_count": null,
   "metadata": {},
   "outputs": [],
   "source": [
    "with open(\"input.txt\") as f:\n",
    "    input_data = f.readlines()\n",
    "input_data = [s.replace(\"\\n\", \"\") for s in input_data]"
   ]
  },
  {
   "cell_type": "code",
   "execution_count": null,
   "metadata": {},
   "outputs": [],
   "source": [
    "data = input_data.copy()"
   ]
  },
  {
   "cell_type": "code",
   "execution_count": null,
   "metadata": {},
   "outputs": [],
   "source": [
    "def concat(l: int, r: int) -> int:\n",
    "    return int(str(l) + str(r))\n",
    "\n",
    "def calc_operator(numbers: list[int], operators: tuple) -> int:\n",
    "    collector = numbers[0]\n",
    "    remains = numbers[1:]\n",
    "    for idx, val in enumerate(remains):\n",
    "        collector = operators[idx](collector, val)\n",
    "    return collector\n",
    "\n",
    "def check_operators(numbers: list[int], target: int, operators: list) -> bool:\n",
    "    \n",
    "    operators_product = list(product(operators, repeat = len(numbers) - 1))\n",
    "    for op in operators_product:\n",
    "        if calc_operator(numbers, op) == target:\n",
    "            return True\n",
    "    return False\n",
    "            \n",
    "    "
   ]
  },
  {
   "cell_type": "markdown",
   "metadata": {},
   "source": [
    "### Part one"
   ]
  },
  {
   "cell_type": "code",
   "execution_count": null,
   "metadata": {},
   "outputs": [],
   "source": [
    "cumulative_sum = 0\n",
    "operators = [int.__add__, int.__rmul__]\n",
    "for line in data:\n",
    "    target, left = line.split(\":\")\n",
    "    target = int(target)\n",
    "    numbers = [int(i) for i in left.split()]\n",
    "    if check_operators(numbers, target, operators):\n",
    "        cumulative_sum += target\n",
    "cumulative_sum"
   ]
  },
  {
   "cell_type": "markdown",
   "metadata": {},
   "source": [
    "### Part two"
   ]
  },
  {
   "cell_type": "code",
   "execution_count": null,
   "metadata": {},
   "outputs": [],
   "source": [
    "cumulative_sum = 0\n",
    "operators = [int.__add__, int.__rmul__, concat]\n",
    "for line in data:\n",
    "    target, left = line.split(\":\")\n",
    "    target = int(target)\n",
    "    numbers = [int(i) for i in left.split()]\n",
    "    if check_operators(numbers, target, operators):\n",
    "        cumulative_sum += target\n",
    "cumulative_sum"
   ]
  }
 ],
 "metadata": {
  "kernelspec": {
   "display_name": "Python 3",
   "language": "python",
   "name": "python3"
  },
  "language_info": {
   "codemirror_mode": {
    "name": "ipython",
    "version": 3
   },
   "file_extension": ".py",
   "mimetype": "text/x-python",
   "name": "python",
   "nbconvert_exporter": "python",
   "pygments_lexer": "ipython3",
   "version": "3.12.3"
  }
 },
 "nbformat": 4,
 "nbformat_minor": 2
}
