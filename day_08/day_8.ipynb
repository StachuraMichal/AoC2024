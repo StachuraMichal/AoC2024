{
 "cells": [
  {
   "cell_type": "code",
   "execution_count": null,
   "metadata": {},
   "outputs": [],
   "source": [
    "import numpy as np\n",
    "from itertools import combinations"
   ]
  },
  {
   "cell_type": "code",
   "execution_count": null,
   "metadata": {},
   "outputs": [],
   "source": [
    "test_text = \"\"\"............\n",
    "........0...\n",
    ".....0......\n",
    ".......0....\n",
    "....0.......\n",
    "......A.....\n",
    "............\n",
    "............\n",
    "........A...\n",
    ".........A..\n",
    "............\n",
    "............\"\"\"\n",
    "test_data = test_text.split(\"\\n\")"
   ]
  },
  {
   "cell_type": "code",
   "execution_count": null,
   "metadata": {},
   "outputs": [],
   "source": [
    "with open(\"input.txt\") as f:\n",
    "    data_input = f.readlines()\n",
    "data_input = [s.replace(\"\\n\", \"\") for s in data_input]"
   ]
  },
  {
   "cell_type": "code",
   "execution_count": null,
   "metadata": {},
   "outputs": [],
   "source": [
    "data_arr = np.array([[i for i in j] for j in data_input])"
   ]
  },
  {
   "cell_type": "code",
   "execution_count": null,
   "metadata": {},
   "outputs": [],
   "source": [
    "def check_bounds(node: np.ndarray, bounds: tuple) -> bool:\n",
    "    for i in range(2):\n",
    "        if node[i] < 0 or node[i] >= bounds[i]:\n",
    "            return False\n",
    "    return True\n",
    "\n",
    "def get_all_valid_antinodes(point_0: np.ndarray, point_1: np.ndarray, bounds: tuple) -> list[np.ndarray]:\n",
    "    antinodes = [point_0.copy()]\n",
    "    \n",
    "    dp = point_1 - point_0\n",
    "    last_node = point_0.copy()\n",
    "    while True:\n",
    "        antinode = last_node - dp\n",
    "        if check_bounds(antinode, bounds):\n",
    "            antinodes.append(antinode.copy())\n",
    "            last_node = antinode.copy()\n",
    "        else:\n",
    "            break\n",
    "    last_node = point_0.copy()\n",
    "    while True:\n",
    "        antinode = last_node + dp\n",
    "        if check_bounds(antinode, bounds):\n",
    "            antinodes.append(antinode.copy())\n",
    "            last_node = antinode.copy()\n",
    "        else:\n",
    "            break\n",
    "    return antinodes"
   ]
  },
  {
   "cell_type": "markdown",
   "metadata": {},
   "source": [
    "### Part one"
   ]
  },
  {
   "cell_type": "code",
   "execution_count": null,
   "metadata": {},
   "outputs": [],
   "source": [
    "bounds = data_arr.shape\n",
    "\n",
    "result_arr = np.zeros_like(data_arr, dtype=int)\n",
    "check_sum = 0\n",
    "unique_elements = np.unique(data_arr)\n",
    "unique_elements = unique_elements[unique_elements != \".\"]\n",
    "\n",
    "unique_maps = []\n",
    "for element in unique_elements:\n",
    "    unique_maps.append(data_arr == element)\n",
    "\n",
    "for map in unique_maps:\n",
    "    positions = np.where(map)\n",
    "    positions = [(x, y) for x, y in zip(positions[0], positions[1])]\n",
    "    pos_combinations = list(combinations(positions, 2))\n",
    "    for comb in pos_combinations:\n",
    "        point_0 = np.array(comb[0])\n",
    "        point_1 = np.array(comb[1])\n",
    "        dp = point_1 - point_0\n",
    "        antinode_0 = point_0 - dp\n",
    "        antinode_1 = point_1 + dp\n",
    "        if check_bounds(antinode_0, bounds):\n",
    "            result_arr[antinode_0[0], antinode_0[1]] = 1\n",
    "\n",
    "        if check_bounds(antinode_1, bounds):\n",
    "            result_arr[antinode_1[0], antinode_1[1]] = 1\n",
    "int(result_arr.sum())"
   ]
  },
  {
   "cell_type": "markdown",
   "metadata": {},
   "source": [
    "### Part two"
   ]
  },
  {
   "cell_type": "code",
   "execution_count": null,
   "metadata": {},
   "outputs": [],
   "source": [
    "unique_elements = np.unique(data_arr)\n",
    "unique_elements = unique_elements[unique_elements != \".\"]\n",
    "\n",
    "unique_maps = []\n",
    "for element in unique_elements:\n",
    "    unique_maps.append(data_arr == element)\n",
    "\n",
    "bounds = data_arr.shape\n",
    "\n",
    "result_arr = np.zeros_like(data_arr, dtype=int)\n",
    "check_sum = 0\n",
    "for map in unique_maps:\n",
    "    positions = np.where(map)\n",
    "    positions = [(x, y) for x, y in zip(positions[0], positions[1])]\n",
    "    pos_combinations = list(combinations(positions, 2))\n",
    "    for comb in pos_combinations:\n",
    "        point_0 = np.array(comb[0])\n",
    "        point_1 = np.array(comb[1])\n",
    "        for node in get_all_valid_antinodes(point_0, point_1, bounds):\n",
    "            result_arr[node[0], node[1]] = 1\n",
    "int(result_arr.sum())\n",
    "\n",
    "              "
   ]
  }
 ],
 "metadata": {
  "kernelspec": {
   "display_name": "Python 3",
   "language": "python",
   "name": "python3"
  },
  "language_info": {
   "codemirror_mode": {
    "name": "ipython",
    "version": 3
   },
   "file_extension": ".py",
   "mimetype": "text/x-python",
   "name": "python",
   "nbconvert_exporter": "python",
   "pygments_lexer": "ipython3",
   "version": "3.12.3"
  }
 },
 "nbformat": 4,
 "nbformat_minor": 2
}
