{
 "cells": [
  {
   "cell_type": "code",
   "execution_count": 1,
   "metadata": {},
   "outputs": [],
   "source": [
    "import numpy as np\n",
    "from dataclasses import dataclass, field"
   ]
  },
  {
   "cell_type": "code",
   "execution_count": 2,
   "metadata": {},
   "outputs": [],
   "source": [
    "test_text = \"2333133121414131402\"\n"
   ]
  },
  {
   "cell_type": "code",
   "execution_count": 3,
   "metadata": {},
   "outputs": [],
   "source": [
    "def get_files_and_spacing(text: str):\n",
    "    arr = np.array([int(x) for x in text])\n",
    "    return arr[::2], arr[1::2]"
   ]
  },
  {
   "cell_type": "code",
   "execution_count": 4,
   "metadata": {},
   "outputs": [],
   "source": [
    "with open(\"input.txt\") as f:\n",
    "    data_text = f.readlines()\n",
    "data_text = data_text[0].replace(\"\\n\", \"\")"
   ]
  },
  {
   "cell_type": "code",
   "execution_count": 5,
   "metadata": {},
   "outputs": [],
   "source": [
    "def calc_check_sum(disk_space: list[int]) -> int:\n",
    "    check_sum = 0\n",
    "    for i, id in enumerate(disk_space):\n",
    "        if id == -1:\n",
    "            continue\n",
    "        check_sum += i * id\n",
    "    return check_sum"
   ]
  },
  {
   "cell_type": "markdown",
   "metadata": {},
   "source": [
    "### Part one"
   ]
  },
  {
   "cell_type": "code",
   "execution_count": null,
   "metadata": {},
   "outputs": [],
   "source": [
    "files, spaces = get_files_and_spacing(data_text)\n",
    "first_line = files[0]\n",
    "remaining_files = files[1:]\n",
    "id = 0\n",
    "disk_space = [id] * first_line\n",
    "\n",
    "for file, space in zip(remaining_files, spaces):\n",
    "    id += 1\n",
    "    disk_space += [-1] * space\n",
    "    disk_space += [id] * file\n",
    "    \n",
    "back_index = len(disk_space) - 1\n",
    "front_idx = 0\n",
    "while front_idx < back_index:\n",
    "    if disk_space[front_idx] == -1:\n",
    "        if disk_space[back_index] == -1:\n",
    "            back_index -= 1\n",
    "            continue\n",
    "        disk_space[front_idx], disk_space[back_index] = disk_space[back_index], disk_space[front_idx]\n",
    "    else:\n",
    "        front_idx += 1\n",
    "# print(disk_space)\n",
    "calc_check_sum(disk_space)"
   ]
  },
  {
   "cell_type": "markdown",
   "metadata": {},
   "source": [
    "### Part two"
   ]
  },
  {
   "cell_type": "code",
   "execution_count": null,
   "metadata": {},
   "outputs": [],
   "source": [
    "@dataclass\n",
    "class MemElement:\n",
    "    size: int\n",
    "    is_chunk: bool\n",
    "    values: list[int]\n",
    "    \n",
    "    def is_empty(self):\n",
    "        return len(self.values) == 0\n",
    "    \n",
    "    def get_free_space(self):\n",
    "        return self.size - len(self.values)\n",
    "    \n",
    "    def move_element(self, other):\n",
    "        self.values += other.values\n",
    "        other.values.clear()\n",
    "    def __repr__(self):\n",
    "        value_list = self.values + self.get_free_space() * [0]\n",
    "        loc_repr = \"\".join([str(i) for i  in value_list])\n",
    "        return loc_repr\n",
    "    \n",
    "    def get_memory(self):\n",
    "        return self.values + self.get_free_space() * [-1]"
   ]
  },
  {
   "cell_type": "code",
   "execution_count": null,
   "metadata": {},
   "outputs": [],
   "source": [
    "files, spaces = get_files_and_spacing(data_text)\n",
    "first_line = files[0]\n",
    "remaining_files = files[1:]\n",
    "id = 0\n",
    "disk_space = []\n",
    "disk_space.append(MemElement(int(first_line), True, [0] * first_line))\n",
    "new_disk_space = disk_space.copy()\n",
    "for file, space in zip(remaining_files, spaces):\n",
    "    id += 1\n",
    "    disk_space.append(MemElement(int(space), False, []))\n",
    "    disk_space.append(MemElement(int(file), True, [id] * file))\n",
    "    \n",
    "back_index = len(disk_space) - 1\n",
    "front_idx = 0\n",
    "for back_idx in range(back_index, 0, -1):\n",
    "    if not disk_space[back_idx].is_chunk:\n",
    "        continue\n",
    "    for front_idx in range(1, back_idx):\n",
    "        if disk_space[front_idx].get_free_space() >= disk_space[back_idx].size:\n",
    "            disk_space[front_idx].move_element(disk_space[back_idx])\n",
    "memory = []\n",
    "for chunk in disk_space:\n",
    "    memory += chunk.get_memory()\n",
    "calc_check_sum(memory)"
   ]
  }
 ],
 "metadata": {
  "kernelspec": {
   "display_name": "Python 3",
   "language": "python",
   "name": "python3"
  },
  "language_info": {
   "codemirror_mode": {
    "name": "ipython",
    "version": 3
   },
   "file_extension": ".py",
   "mimetype": "text/x-python",
   "name": "python",
   "nbconvert_exporter": "python",
   "pygments_lexer": "ipython3",
   "version": "3.12.3"
  }
 },
 "nbformat": 4,
 "nbformat_minor": 2
}
