{
 "cells": [
  {
   "cell_type": "code",
   "execution_count": null,
   "metadata": {},
   "outputs": [],
   "source": [
    "import numpy as np"
   ]
  },
  {
   "cell_type": "code",
   "execution_count": null,
   "metadata": {},
   "outputs": [],
   "source": [
    "test_text = \"\"\"89010123\n",
    "78121874\n",
    "87430965\n",
    "96549874\n",
    "45678903\n",
    "32019012\n",
    "01329801\n",
    "10456732\"\"\"\n",
    "test_data = test_text.split(\"\\n\")"
   ]
  },
  {
   "cell_type": "code",
   "execution_count": null,
   "metadata": {},
   "outputs": [],
   "source": [
    "with open(\"input.txt\") as f:\n",
    "    input_text = f.readlines()\n",
    "input_data = [i.replace(\"\\n\", \"\") for i in input_text]"
   ]
  },
  {
   "cell_type": "code",
   "execution_count": null,
   "metadata": {},
   "outputs": [],
   "source": [
    "def get_arr(data: list) -> np.ndarray:\n",
    "    return np.array([[int(j) for j in i] for i in data])"
   ]
  },
  {
   "cell_type": "code",
   "execution_count": null,
   "metadata": {},
   "outputs": [],
   "source": [
    "def check_point_bounds(point: tuple, arr: np.ndarray) -> bool:\n",
    "    shape = arr.shape\n",
    "    if all(0 <= point[i] < shape[i] for i in range(2)):\n",
    "        return True\n",
    "    return False\n",
    " \n",
    "\n",
    "def get_points(point: tuple, arr: np.ndarray) -> list:\n",
    "    next_points = []\n",
    "    dps = [(0, 1), (0, -1), (1, 0), (-1, 0)]\n",
    "    for dp in dps:\n",
    "        candidate = (dp[0] + point[0], dp[1] + point[1])\n",
    "        if not check_point_bounds(candidate, arr):\n",
    "            continue\n",
    "        if arr[candidate] == arr[point] + 1:\n",
    "            next_points.append(candidate)\n",
    "    return next_points\n",
    "\n",
    "def iterate_points(start_point: tuple, arr: np.ndarray, move_once):\n",
    "    if arr[start_point] == 9:\n",
    "        if move_once:\n",
    "            arr[start_point] = -1\n",
    "        return 1\n",
    "    next_points = get_points(start_point, arr)\n",
    "    if not next_points:\n",
    "        return 0\n",
    "    ret = 0\n",
    "    for point in next_points:\n",
    "        ret += iterate_points(point, arr, move_once)\n",
    "    return ret\n",
    "    "
   ]
  },
  {
   "cell_type": "markdown",
   "metadata": {},
   "source": [
    "### Part one"
   ]
  },
  {
   "cell_type": "code",
   "execution_count": null,
   "metadata": {},
   "outputs": [],
   "source": [
    "data_arr = get_arr(input_data)\n",
    "zeros = np.where(data_arr == 0)\n",
    "zeros = [(x, y) for x, y in zip(zeros[0], zeros[1])]\n",
    "\n",
    "check_sum = 0\n",
    "for point in zeros:\n",
    "    point_arr = data_arr.copy()\n",
    "    check_sum += iterate_points(point, point_arr, True)\n",
    "check_sum"
   ]
  },
  {
   "cell_type": "markdown",
   "metadata": {},
   "source": [
    "### Part Two"
   ]
  },
  {
   "cell_type": "code",
   "execution_count": null,
   "metadata": {},
   "outputs": [],
   "source": [
    "data_arr = get_arr(input_data)\n",
    "zeros = np.where(data_arr == 0)\n",
    "zeros = [(x, y) for x, y in zip(zeros[0], zeros[1])]\n",
    "\n",
    "check_sum = 0\n",
    "for point in zeros:\n",
    "    point_arr = data_arr.copy()\n",
    "    check_sum += iterate_points(point, point_arr, False)\n",
    "check_sum"
   ]
  }
 ],
 "metadata": {
  "kernelspec": {
   "display_name": "Python 3",
   "language": "python",
   "name": "python3"
  },
  "language_info": {
   "codemirror_mode": {
    "name": "ipython",
    "version": 3
   },
   "file_extension": ".py",
   "mimetype": "text/x-python",
   "name": "python",
   "nbconvert_exporter": "python",
   "pygments_lexer": "ipython3",
   "version": "3.12.3"
  }
 },
 "nbformat": 4,
 "nbformat_minor": 2
}
