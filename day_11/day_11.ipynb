{
 "cells": [
  {
   "cell_type": "code",
   "execution_count": null,
   "metadata": {},
   "outputs": [],
   "source": [
    "test_text = \"\"\"125 17\"\"\"\n",
    "test_data = [int(i) for i in test_text.split()]"
   ]
  },
  {
   "cell_type": "code",
   "execution_count": null,
   "metadata": {},
   "outputs": [],
   "source": [
    "with open(\"input.txt\") as f:\n",
    "    input_text = f.readline()\n",
    "input_data = [int(i) for i in input_text.split()]"
   ]
  },
  {
   "cell_type": "code",
   "execution_count": null,
   "metadata": {},
   "outputs": [],
   "source": [
    "def blink(data: list) -> list:\n",
    "    new_list = []\n",
    "    for item in data:\n",
    "        str_item = str(item)\n",
    "        if item == 0:\n",
    "            new_list.append(1)\n",
    "        elif len(str_item) % 2 == 0:\n",
    "            new_list.append(int(str_item[:len(str_item) // 2]))\n",
    "            new_list.append(int(str_item[len(str_item) // 2:]))\n",
    "        else:\n",
    "            new_list.append(2024 * item)\n",
    "    return new_list\n",
    "\n",
    "\n",
    "def blink_dict(data: dict) -> dict:\n",
    "    new_dict = dict()\n",
    "    for item, value in data.items():\n",
    "        str_item = str(item)\n",
    "        if item == 0:\n",
    "            if 1 in new_dict:\n",
    "                new_dict[1] += value\n",
    "            else:\n",
    "                new_dict[1] = value\n",
    "        elif len(str_item) % 2 == 0:\n",
    "            l_val = int(str_item[:len(str_item) // 2])\n",
    "            r_val = int(str_item[len(str_item) // 2:])\n",
    "            vals = [l_val, r_val]\n",
    "            for val in vals:\n",
    "                if val in new_dict:\n",
    "                    new_dict[val] += value\n",
    "                else:\n",
    "                    new_dict[val] = value\n",
    "            \n",
    "        else:\n",
    "            new_val = 2024 * item\n",
    "            if new_val in new_dict:\n",
    "                new_dict[new_val] += value\n",
    "            else:\n",
    "                new_dict[new_val] = value\n",
    "    return new_dict\n",
    "\n"
   ]
  },
  {
   "cell_type": "markdown",
   "metadata": {},
   "source": [
    "### Part one"
   ]
  },
  {
   "cell_type": "code",
   "execution_count": null,
   "metadata": {},
   "outputs": [],
   "source": [
    "new_dict =dict()\n",
    "\n",
    "for item in input_data:\n",
    "    new_dict[item] = 1\n",
    "for i in range(25):\n",
    "    new_dict = blink_dict(new_dict.copy())\n",
    "cnt = 0\n",
    "for key, val in new_dict.items():\n",
    "    cnt += val\n",
    "cnt"
   ]
  },
  {
   "cell_type": "markdown",
   "metadata": {},
   "source": [
    "### Part two"
   ]
  },
  {
   "cell_type": "code",
   "execution_count": null,
   "metadata": {},
   "outputs": [],
   "source": [
    "new_dict =dict()\n",
    "\n",
    "for item in input_data:\n",
    "    new_dict[item] = 1\n",
    "for i in range(75):\n",
    "    new_dict = blink_dict(new_dict.copy())\n",
    "cnt = 0\n",
    "for key, val in new_dict.items():\n",
    "    cnt += val\n",
    "cnt"
   ]
  }
 ],
 "metadata": {
  "kernelspec": {
   "display_name": "Python 3",
   "language": "python",
   "name": "python3"
  },
  "language_info": {
   "codemirror_mode": {
    "name": "ipython",
    "version": 3
   },
   "file_extension": ".py",
   "mimetype": "text/x-python",
   "name": "python",
   "nbconvert_exporter": "python",
   "pygments_lexer": "ipython3",
   "version": "3.12.3"
  }
 },
 "nbformat": 4,
 "nbformat_minor": 2
}
