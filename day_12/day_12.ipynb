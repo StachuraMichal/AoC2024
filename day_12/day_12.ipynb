{
 "cells": [
  {
   "cell_type": "code",
   "execution_count": null,
   "metadata": {},
   "outputs": [],
   "source": [
    "import numpy as np\n",
    "import cv2 as cv"
   ]
  },
  {
   "cell_type": "code",
   "execution_count": null,
   "metadata": {},
   "outputs": [],
   "source": [
    "test_text = \"\"\"AAAAAA\n",
    "AAABBA\n",
    "AAABBA\n",
    "ABBAAA\n",
    "ABBAAA\n",
    "AAAAAA\"\"\"\n",
    "\n",
    "test_data = test_text.split(\"\\n\")"
   ]
  },
  {
   "cell_type": "code",
   "execution_count": null,
   "metadata": {},
   "outputs": [],
   "source": [
    "with open(\"input.txt\") as f:\n",
    "    data_text = f.readlines()\n",
    "input_data = [s.replace(\"\\n\", \"\") for s in data_text]"
   ]
  },
  {
   "cell_type": "code",
   "execution_count": null,
   "metadata": {},
   "outputs": [],
   "source": [
    "def get_arr(text: list) -> np.ndarray:\n",
    "    return np.array([[j for j in i] for i in text])"
   ]
  },
  {
   "cell_type": "code",
   "execution_count": null,
   "metadata": {},
   "outputs": [],
   "source": [
    "def check_idx(idx: tuple, indexes: list) -> int:\n",
    "    dps = []\n",
    "    for i in [-1, 1]:\n",
    "        dps.append((idx[0] + i, idx[1]))\n",
    "        dps.append((idx[0], idx[1] + i))\n",
    "    res = 0\n",
    "    for dp in dps:\n",
    "        if dp not in indexes:\n",
    "            res += 1\n",
    "    return res\n",
    "\n",
    "def search_arr(regions_arr: np.ndarray, idx: tuple, indexes: list, region_val: int):\n",
    "    indexes.remove(idx)\n",
    "    regions_arr[idx] = region_val\n",
    "    dps = []\n",
    "    for i in [-1, 1]:\n",
    "        dps.append((idx[0] + i, idx[1]))\n",
    "        dps.append((idx[0], idx[1] + i))\n",
    "    for dp in dps:\n",
    "        if dp in indexes:\n",
    "            search_arr(regions_arr, dp, indexes, region_val)\n",
    "\n",
    "def split_regions(mask: np.ndarray) -> list:\n",
    "    regions_arr = mask.astype(int)\n",
    "    region_val = 2\n",
    "    while np.any(regions_arr == 1):\n",
    "        ids = np.where(regions_arr == 1)\n",
    "        indexes = [(int(x), int(y)) for x, y in zip(ids[0], ids[1])]\n",
    "        search_arr(regions_arr,indexes[0], indexes, region_val)\n",
    "        region_val += 1\n",
    "    return regions_arr\n",
    "\n",
    "def get_regions_cnt(mask: np.ndarray) -> int:\n",
    "    regions = split_regions(mask)\n",
    "    regions_uniques = np.unique(regions)\n",
    "    regions_uniques = regions_uniques[regions_uniques != 0]\n",
    "    return len(regions_uniques)"
   ]
  },
  {
   "cell_type": "markdown",
   "metadata": {},
   "source": [
    "### Part one"
   ]
  },
  {
   "cell_type": "code",
   "execution_count": null,
   "metadata": {},
   "outputs": [],
   "source": [
    "data_arr = get_arr(input_data)\n",
    "uniques = np.unique(data_arr)\n",
    "total_cost = 0\n",
    "for element in uniques:\n",
    "    mask = data_arr == element\n",
    "    regions = split_regions(mask)\n",
    "    regions_uniques = np.unique(regions)\n",
    "    regions_uniques = regions_uniques[regions_uniques != 0]\n",
    "    for unique in regions_uniques:\n",
    "        region = regions == unique\n",
    "        ids = np.where(regions == unique)\n",
    "        indexes = [(int(x), int(y)) for x, y in zip(ids[0], ids[1])]\n",
    "        perimeter = 0\n",
    "        for idx in indexes:\n",
    "            perimeter += check_idx(idx, indexes)\n",
    "        cost = perimeter * len(indexes)\n",
    "        total_cost += cost\n",
    "print(total_cost)"
   ]
  },
  {
   "cell_type": "markdown",
   "metadata": {},
   "source": [
    "### Part two"
   ]
  },
  {
   "cell_type": "code",
   "execution_count": null,
   "metadata": {},
   "outputs": [],
   "source": [
    "def extract_boundaries(region: np.ndarray):\n",
    "    extended = np.zeros((region.shape[0] + 2, region.shape[1] + 2))\n",
    "    extended[1:-1, 1:-1] = region[:, :]\n",
    "    \n",
    "    kernel = np.ones((3, 3), np.uint8) \n",
    "    borders = cv.dilate(extended, kernel)\n",
    "    borders[1:-1, 1:-1] -= region[:, :]\n",
    "    return borders\n"
   ]
  },
  {
   "cell_type": "code",
   "execution_count": null,
   "metadata": {},
   "outputs": [],
   "source": [
    "def get_region_edges_stripe_wise(region: np.ndarray) -> list:\n",
    "    border = extract_boundaries(region)\n",
    "    border_regions = split_regions(border == 1)\n",
    "    regions_uniques = np.unique(border_regions)\n",
    "    regions_uniques = regions_uniques[regions_uniques != 0]\n",
    "    extended = np.zeros((region.shape[0] + 2, region.shape[1] + 2))\n",
    "    extended[1:-1, 1:-1] = region[:, :]\n",
    "    edges = 0\n",
    "    for j in range(1, extended.shape[1] - 1):\n",
    "        is_in_border_left = False\n",
    "        is_in_border_right = False\n",
    "        for i in range(1, extended.shape[0] - 1):\n",
    "            left_empty = extended[i, j - 1] == 0 \n",
    "            right_empty = extended[i, j + 1] == 0 \n",
    "            if extended[i, j] == 1 and left_empty:\n",
    "                if not is_in_border_left:\n",
    "                    edges += 1                    \n",
    "                    is_in_border_left = True    \n",
    "            else:\n",
    "                is_in_border_left = False\n",
    "            \n",
    "            if extended[i, j] == 1 and right_empty:\n",
    "                if not is_in_border_right:\n",
    "                    edges += 1                    \n",
    "                    is_in_border_right = True    \n",
    "            else:\n",
    "                is_in_border_right = False\n",
    "\n",
    "    for i in range(1, extended.shape[0] - 1):\n",
    "        is_in_border_top = False\n",
    "        is_in_border_down = False\n",
    "        for j in range(1, extended.shape[1] - 1):\n",
    "            top_empty = extended[i - 1, j] == 0 \n",
    "            down_empty = extended[i + 1, j] == 0 \n",
    "            if extended[i, j] == 1 and down_empty:\n",
    "                if not is_in_border_down:\n",
    "                    edges += 1                    \n",
    "                    is_in_border_down = True    \n",
    "            else:\n",
    "                is_in_border_down = False\n",
    "            \n",
    "            if extended[i, j] == 1 and top_empty:\n",
    "                if not is_in_border_top:\n",
    "                    edges += 1                    \n",
    "                    is_in_border_top = True    \n",
    "            else:\n",
    "                is_in_border_top = False\n",
    "            \n",
    "    return edges"
   ]
  },
  {
   "cell_type": "code",
   "execution_count": null,
   "metadata": {},
   "outputs": [],
   "source": [
    "data_arr = get_arr(input_data)\n",
    "uniques = np.unique(data_arr)\n",
    "total_cost = 0\n",
    "for element in uniques:\n",
    "    print(element)\n",
    "    mask = data_arr == element\n",
    "    regions = split_regions(mask)\n",
    "    regions_uniques = np.unique(regions)\n",
    "    regions_uniques = regions_uniques[regions_uniques != 0]\n",
    "    for unique in regions_uniques:\n",
    "        region = regions == unique\n",
    "        perimeter = get_region_edges_stripe_wise(region)\n",
    "        indexes = np.where(region == True)\n",
    "        indexes = [(int(x), int(y)) for x, y in zip(indexes[0], indexes[1])]\n",
    "        cost = perimeter * len(indexes)\n",
    "        total_cost += cost\n",
    "print(total_cost)"
   ]
  }
 ],
 "metadata": {
  "kernelspec": {
   "display_name": "Python 3",
   "language": "python",
   "name": "python3"
  },
  "language_info": {
   "codemirror_mode": {
    "name": "ipython",
    "version": 3
   },
   "file_extension": ".py",
   "mimetype": "text/x-python",
   "name": "python",
   "nbconvert_exporter": "python",
   "pygments_lexer": "ipython3",
   "version": "3.12.3"
  }
 },
 "nbformat": 4,
 "nbformat_minor": 2
}
