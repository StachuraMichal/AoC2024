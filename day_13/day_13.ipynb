{
 "cells": [
  {
   "cell_type": "code",
   "execution_count": 4,
   "metadata": {},
   "outputs": [],
   "source": [
    "import numpy as np\n",
    "import re"
   ]
  },
  {
   "cell_type": "code",
   "execution_count": 3,
   "metadata": {},
   "outputs": [],
   "source": [
    "test_text = \"\"\"Button A: X+94, Y+34\n",
    "Button B: X+22, Y+67\n",
    "Prize: X=8400, Y=5400\n",
    "\n",
    "Button A: X+26, Y+66\n",
    "Button B: X+67, Y+21\n",
    "Prize: X=12748, Y=12176\n",
    "\n",
    "Button A: X+17, Y+86\n",
    "Button B: X+84, Y+37\n",
    "Prize: X=7870, Y=6450\n",
    "\n",
    "Button A: X+69, Y+23\n",
    "Button B: X+27, Y+71\n",
    "Prize: X=18641, Y=10279\"\"\"\n",
    "\n"
   ]
  },
  {
   "cell_type": "code",
   "execution_count": 54,
   "metadata": {},
   "outputs": [],
   "source": [
    "with open(\"input.txt\") as f:\n",
    "    input_text = f.read()"
   ]
  },
  {
   "cell_type": "code",
   "execution_count": null,
   "metadata": {},
   "outputs": [],
   "source": [
    "def extract_data(text: str):\n",
    "    cases_text = text.split(\"\\n\\n\")\n",
    "    button_pattern = r\"Button .+ X(.\\d+), Y(.\\d+)\"\n",
    "    prize_pattern = r\"Prize: X\\=(\\d+), Y\\=(\\d+)\"\n",
    "    cases = []\n",
    "    for case_text in cases_text:\n",
    "        case_dict = dict()\n",
    "        buttons_match = re.findall(button_pattern, case_text)\n",
    "        case_dict[\"A\"] = (int(buttons_match[0][0]), int(buttons_match[0][1]))\n",
    "        case_dict[\"B\"] = (int(buttons_match[1][0]), int(buttons_match[1][1]))\n",
    "        prize_match = re.findall(prize_pattern, case_text)\n",
    "        case_dict[\"P\"] = (int(prize_match[0][0]), int(prize_match[0][1]))\n",
    "        cases.append(case_dict)\n",
    "    return cases\n",
    "        \n",
    " "
   ]
  },
  {
   "cell_type": "code",
   "execution_count": 83,
   "metadata": {},
   "outputs": [],
   "source": [
    "def get_multipliers(machine: dict) -> np.ndarray:\n",
    "    A = np.array([machine[\"A\"], machine[\"B\"]]).T\n",
    "    P = np.array(machine[\"P\"])\n",
    "    X = np.linalg.inv(A).dot(P)\n",
    "    X_int = np.round(X).astype(int)\n",
    "    if not np.all(A.dot(X_int) == P):\n",
    "        return np.array([0, 0])\n",
    "    return X_int"
   ]
  },
  {
   "cell_type": "markdown",
   "metadata": {},
   "source": [
    "### Part one"
   ]
  },
  {
   "cell_type": "code",
   "execution_count": null,
   "metadata": {},
   "outputs": [],
   "source": [
    "machines = extract_data(input_text)\n",
    "total_tokens = 0\n",
    "for machine in machines:\n",
    "    machine_alt = machine.copy()\n",
    "    multipliers = get_multipliers(machine_alt)\n",
    "    total_tokens += multipliers[0] * 3 + multipliers[1]\n",
    "    print(multipliers)\n",
    "print(total_tokens)"
   ]
  },
  {
   "cell_type": "markdown",
   "metadata": {},
   "source": [
    "### Part two"
   ]
  },
  {
   "cell_type": "code",
   "execution_count": null,
   "metadata": {},
   "outputs": [],
   "source": [
    "machines = extract_data(input_text)\n",
    "total_tokens = 0\n",
    "for machine in machines:\n",
    "    machine_alt = machine.copy()\n",
    "    machine_alt[\"P\"] = (machine_alt[\"P\"][0] + 10000000000000, machine_alt[\"P\"][1] + 10000000000000)\n",
    "    multipliers = get_multipliers(machine_alt)\n",
    "    total_tokens += multipliers[0] * 3 + multipliers[1]\n",
    "    print(multipliers)\n",
    "print(total_tokens)"
   ]
  }
 ],
 "metadata": {
  "kernelspec": {
   "display_name": "Python 3",
   "language": "python",
   "name": "python3"
  },
  "language_info": {
   "codemirror_mode": {
    "name": "ipython",
    "version": 3
   },
   "file_extension": ".py",
   "mimetype": "text/x-python",
   "name": "python",
   "nbconvert_exporter": "python",
   "pygments_lexer": "ipython3",
   "version": "3.12.3"
  }
 },
 "nbformat": 4,
 "nbformat_minor": 2
}
