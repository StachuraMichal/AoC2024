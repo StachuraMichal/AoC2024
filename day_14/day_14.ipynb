{
 "cells": [
  {
   "cell_type": "code",
   "execution_count": null,
   "metadata": {},
   "outputs": [],
   "source": [
    "import numpy as np\n",
    "import re\n",
    "from dataclasses import dataclass\n",
    "import cv2 as cv"
   ]
  },
  {
   "cell_type": "code",
   "execution_count": null,
   "metadata": {},
   "outputs": [],
   "source": [
    "test_text = \"\"\"p=0,4 v=3,-3\n",
    "p=6,3 v=-1,-3\n",
    "p=10,3 v=-1,2\n",
    "p=2,0 v=2,-1\n",
    "p=0,0 v=1,3\n",
    "p=3,0 v=-2,-2\n",
    "p=7,6 v=-1,-3\n",
    "p=3,0 v=-1,-2\n",
    "p=9,3 v=2,3\n",
    "p=7,3 v=-1,2\n",
    "p=2,4 v=2,-3\n",
    "p=9,5 v=-3,-3\"\"\""
   ]
  },
  {
   "cell_type": "code",
   "execution_count": null,
   "metadata": {},
   "outputs": [],
   "source": [
    "with open(\"input.txt\") as f:\n",
    "    input_text = f.read()"
   ]
  },
  {
   "cell_type": "code",
   "execution_count": null,
   "metadata": {},
   "outputs": [],
   "source": [
    "@dataclass\n",
    "class Robot:\n",
    "    x: int\n",
    "    y: int\n",
    "    dx: int\n",
    "    dy: int\n",
    "    max_x: int\n",
    "    max_y: int\n",
    "    \n",
    "    def move(self, dt: int):\n",
    "        self.x = (self.x + self.dx * dt) % self.max_x\n",
    "        self.y = (self.y + self.dy * dt) % self.max_y\n",
    "        \n",
    "    def get_quad(self):\n",
    "        if self.x == self.max_x // 2:\n",
    "            return False\n",
    "        if self.y == self.max_y // 2:\n",
    "            return False\n",
    "        return (self.x // ((self.max_x + 1) // 2), self.y // ((self.max_y + 1) // 2))"
   ]
  },
  {
   "cell_type": "code",
   "execution_count": null,
   "metadata": {},
   "outputs": [],
   "source": [
    "def parse_input(text: str, is_test: bool):\n",
    "    lines = text.split(\"\\n\")\n",
    "    pattern = r\"p=(.+),(.+) v=(.+),(.+)\"\n",
    "    robots = []\n",
    "    if is_test:\n",
    "        size = [11, 7]\n",
    "    else:\n",
    "        size = [101, 103]\n",
    "    for line in lines:\n",
    "        if not line:\n",
    "            continue\n",
    "        matches = [int(x) for x in re.findall(pattern, line)[0]]\n",
    "        robots.append(Robot(*matches, *size))\n",
    "    return robots"
   ]
  },
  {
   "cell_type": "markdown",
   "metadata": {},
   "source": [
    "### Part one"
   ]
  },
  {
   "cell_type": "code",
   "execution_count": null,
   "metadata": {},
   "outputs": [],
   "source": [
    "robots = parse_input(input_text, False)\n",
    "\n",
    "robot: Robot\n",
    "quads = np.zeros((2, 2))\n",
    "for i, robot in enumerate(robots):\n",
    "    robot.move(100)\n",
    "    quads[robot.get_quad()] += 1\n",
    "res = 1\n",
    "for i in quads.ravel():\n",
    "    if i > 0:\n",
    "        res *= i\n",
    "int(res)"
   ]
  },
  {
   "cell_type": "markdown",
   "metadata": {},
   "source": [
    "### Part two"
   ]
  },
  {
   "cell_type": "code",
   "execution_count": null,
   "metadata": {},
   "outputs": [],
   "source": [
    "robots = parse_input(input_text, False)\n",
    "\n",
    "robot: Robot\n",
    "\n",
    "for t in range(1, 10000):\n",
    "    result_img = np.zeros((robots[0].max_x, robots[0].max_y))\n",
    "    for i, robot in enumerate(robots):\n",
    "        robot.move(1)\n",
    "        result_img[robot.x, robot.y] = 1\n",
    "    result_img_erode = cv.erode(result_img, np.ones((5, 5)))\n",
    "    if result_img_erode.sum() > 0:\n",
    "        cv.imwrite(f\"img_{t}.png\", result_img * 255)\n",
    "        print(t)"
   ]
  }
 ],
 "metadata": {
  "kernelspec": {
   "display_name": "Python 3",
   "language": "python",
   "name": "python3"
  },
  "language_info": {
   "codemirror_mode": {
    "name": "ipython",
    "version": 3
   },
   "file_extension": ".py",
   "mimetype": "text/x-python",
   "name": "python",
   "nbconvert_exporter": "python",
   "pygments_lexer": "ipython3",
   "version": "3.12.3"
  }
 },
 "nbformat": 4,
 "nbformat_minor": 2
}
