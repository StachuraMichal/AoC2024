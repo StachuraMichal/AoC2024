{
 "cells": [
  {
   "cell_type": "code",
   "execution_count": null,
   "metadata": {},
   "outputs": [],
   "source": [
    "import numpy as np\n",
    "import copy\n",
    "from collections import namedtuple\n",
    "from matplotlib import pyplot as plt"
   ]
  },
  {
   "cell_type": "code",
   "execution_count": null,
   "metadata": {},
   "outputs": [],
   "source": [
    "test_text = \"\"\"###############\n",
    "#.......#....E#\n",
    "#.#.###.#.###.#\n",
    "#.....#.#...#.#\n",
    "#.###.#####.#.#\n",
    "#.#.#.......#.#\n",
    "#.#.#####.###.#\n",
    "#...........#.#\n",
    "###.#.#####.#.#\n",
    "#...#.....#.#.#\n",
    "#.#.#.###.#.#.#\n",
    "#.....#...#.#.#\n",
    "#.###.#.#.#.#.#\n",
    "#S..#.....#...#\n",
    "###############\"\"\""
   ]
  },
  {
   "cell_type": "code",
   "execution_count": null,
   "metadata": {},
   "outputs": [],
   "source": [
    "with open(\"input.txt\") as f:\n",
    "    data_text = f.read()"
   ]
  },
  {
   "cell_type": "code",
   "execution_count": null,
   "metadata": {},
   "outputs": [],
   "source": [
    "def add_tuple(a, b):\n",
    "    return(a[0] + b[0], a[1] + b[1])"
   ]
  },
  {
   "cell_type": "code",
   "execution_count": null,
   "metadata": {},
   "outputs": [],
   "source": [
    "class Maze:\n",
    "    def __init__(self, maze: np.ndarray):\n",
    "        self.shape = maze.shape\n",
    "        self.pos = tuple(map(int, np.where(maze == \"S\")))\n",
    "        self.dir = (0, 1)\n",
    "        self.end = tuple(map(int, np.where(maze == \"E\")))\n",
    "        self.visited = []\n",
    "        self.turns = []\n",
    "        self.score = 0\n",
    "        self.stuck = False\n",
    "    \n",
    "    def _get_score(self, dp: tuple, dir: tuple):\n",
    "        if dp == dir:\n",
    "            return 1\n",
    "        \n",
    "        return 1001\n",
    "    \n",
    "    def possible_moves(self, walls):\n",
    "        dps = [(0, 1), (1, 0), (0, -1), (-1, 0)]\n",
    "        found_possible_move = False\n",
    "        new_ways = []\n",
    "        starting_pos = self.pos\n",
    "        starting_dir = self.dir\n",
    "        starting_score = self.score\n",
    "        starting_turns = copy.copy(self.turns)\n",
    "        for dp in dps:\n",
    "            candidate = add_tuple(starting_pos, dp)\n",
    "            if candidate not in walls and candidate not in self.visited:\n",
    "                if not found_possible_move:\n",
    "                    self.visited.append(self.pos)\n",
    "                    if starting_dir != dp:\n",
    "                        self.turns.append(self.pos)\n",
    "                    self.pos = candidate\n",
    "                    self.score += self._get_score(dp, self.dir)\n",
    "                    self.dir = dp\n",
    "                    found_possible_move = True\n",
    "                else:\n",
    "                    new_maze = copy.deepcopy(self)\n",
    "                    new_maze.turns = copy.copy(starting_turns)\n",
    "                    if starting_dir != dp:\n",
    "                        new_maze.turns.append(starting_pos)\n",
    "                    new_maze.pos = candidate\n",
    "                    new_maze.dir = dp\n",
    "                    new_maze.score = starting_score + new_maze._get_score(dp, starting_dir)\n",
    "                    new_ways.append(new_maze)\n",
    "        if not found_possible_move:\n",
    "            self.stuck = True\n",
    "        return new_ways\n",
    "\n",
    "    def __bool__(self):\n",
    "        if self.pos == self.end:\n",
    "            return True\n",
    "        return False\n",
    "    \n",
    "    def update(self, maze):\n",
    "        new_maze = np.full(maze.shape, \".\")\n",
    "        for pos in self.walls:\n",
    "            new_maze[pos] = \"#\"\n",
    "        new_maze[self.end] = \"E\"\n",
    " \n",
    "        for pos in self.visited:\n",
    "            new_maze[pos] = \"i\"\n",
    "        for pos in self.turns:\n",
    "            new_maze[pos] = \"T\"\n",
    "        new_maze[self.pos] = \"R\"\n",
    "        return new_maze\n",
    "        \n",
    "    def to_img(self, walls):\n",
    "        img = np.full((self.shape[0], self.shape[1], 3), 0, dtype=np.uint8)\n",
    "        for pos in walls:\n",
    "            img[pos] = [1, 1, 1]\n",
    "        img[self.end] = [0, 1, 0]\n",
    " \n",
    "        for pos in self.visited:\n",
    "            img[pos] = [0, 0, 1]\n",
    "        for pos in self.turns:\n",
    "            img[pos] = [1, 0, 1]\n",
    "        img[self.pos] = [1, 0, 0]\n",
    "        img *= 255\n",
    "        return img"
   ]
  },
  {
   "cell_type": "code",
   "execution_count": null,
   "metadata": {},
   "outputs": [],
   "source": [
    "def parse_input(text: str):\n",
    "    maze_arr = np.array([[s for s in line] for line in text.strip().split(\"\\n\")])\n",
    "    return maze_arr, Maze(maze_arr)"
   ]
  },
  {
   "cell_type": "markdown",
   "metadata": {},
   "source": [
    "### Part one"
   ]
  },
  {
   "cell_type": "code",
   "execution_count": null,
   "metadata": {},
   "outputs": [],
   "source": [
    "\n",
    "maze_arr, starting_maze = parse_input(data_text)\n",
    "walls = [(int(x), int(y)) for x, y in zip(*np.where(maze_arr == \"#\"))]\n",
    "possible_points = []\n",
    "mazes = [starting_maze]\n",
    "itr = 0\n",
    "visited = np.full_like(maze_arr, 10000000000000, dtype=int)\n",
    "while True:\n",
    "    itr += 1\n",
    "    if visited[mazes[0].pos] + 1000 < mazes[0].score:\n",
    "        mazes.pop(0)\n",
    "        continue\n",
    "    else:\n",
    "        visited[mazes[0].pos] = mazes[0].score \n",
    "    new_ways = mazes[0].possible_moves(walls)\n",
    "    if new_ways:\n",
    "        mazes += new_ways\n",
    "    if any(new_ways) or mazes[0]:\n",
    "        for i in range(1, len(mazes)):\n",
    "            new_ways = mazes[i].possible_moves(walls)\n",
    "            mazes += new_ways\n",
    "        break\n",
    "    if mazes[0].stuck:\n",
    "        mazes.pop(0)\n",
    "    if len(mazes) == 1:\n",
    "        continue\n",
    "    min_maze = min(mazes, key=lambda x: x.score)\n",
    "    if min_maze.score < mazes[0].score:\n",
    "        min_id = mazes.index(min_maze)\n",
    "        mazes[0], mazes[min_id] = mazes[min_id], mazes[0]\n",
    "print(mazes[0].score)        "
   ]
  },
  {
   "cell_type": "markdown",
   "metadata": {},
   "source": [
    "### Part two"
   ]
  },
  {
   "cell_type": "code",
   "execution_count": null,
   "metadata": {},
   "outputs": [],
   "source": [
    "good_mazes = [maze for maze in mazes if (maze.score <= mazes[0].score and maze.pos == maze.end)]"
   ]
  },
  {
   "cell_type": "code",
   "execution_count": null,
   "metadata": {},
   "outputs": [],
   "source": [
    "intersection = copy.deepcopy(good_mazes[0].visited)\n",
    "for i in range(1, len(good_mazes)):\n",
    "    intersection += [pos for pos in good_mazes[i].visited if pos not in intersection]\n",
    "\n",
    "test_arr = np.zeros_like(maze_arr, dtype=int)\n",
    "for pos in intersection:\n",
    "    test_arr[pos] = 1\n",
    "print(test_arr.sum() + 1)"
   ]
  }
 ],
 "metadata": {
  "kernelspec": {
   "display_name": "Python 3",
   "language": "python",
   "name": "python3"
  },
  "language_info": {
   "codemirror_mode": {
    "name": "ipython",
    "version": 3
   },
   "file_extension": ".py",
   "mimetype": "text/x-python",
   "name": "python",
   "nbconvert_exporter": "python",
   "pygments_lexer": "ipython3",
   "version": "3.12.3"
  }
 },
 "nbformat": 4,
 "nbformat_minor": 2
}
