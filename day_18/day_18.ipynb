{
 "cells": [
  {
   "cell_type": "code",
   "execution_count": null,
   "metadata": {},
   "outputs": [],
   "source": [
    "import numpy as np\n",
    "import heapq\n",
    "from matplotlib import pyplot as plt"
   ]
  },
  {
   "cell_type": "code",
   "execution_count": null,
   "metadata": {},
   "outputs": [],
   "source": [
    "test_text = \"\"\"5,4\n",
    "4,2\n",
    "4,5\n",
    "3,0\n",
    "2,1\n",
    "6,3\n",
    "2,4\n",
    "1,5\n",
    "0,6\n",
    "3,3\n",
    "2,6\n",
    "5,1\n",
    "1,2\n",
    "5,5\n",
    "2,5\n",
    "6,5\n",
    "1,4\n",
    "0,4\n",
    "6,4\n",
    "1,1\n",
    "6,1\n",
    "1,0\n",
    "0,5\n",
    "1,6\n",
    "2,0\"\"\""
   ]
  },
  {
   "cell_type": "code",
   "execution_count": null,
   "metadata": {},
   "outputs": [],
   "source": [
    "with open(\"input.txt\") as f:\n",
    "    input_text = f.read()"
   ]
  },
  {
   "cell_type": "code",
   "execution_count": null,
   "metadata": {},
   "outputs": [],
   "source": [
    "def parse(text: str):\n",
    "    lines =[line.split(\",\") for line in text.strip().split(\"\\n\")]\n",
    "    return[(int(line[0]), int(line[1])) for line in lines]"
   ]
  },
  {
   "cell_type": "code",
   "execution_count": null,
   "metadata": {},
   "outputs": [],
   "source": [
    "def add_tuple(a, b):\n",
    "    return(a[0] + b[0], a[1] + b[1])\n",
    "\n",
    "def check_coords(arr, coordinates):\n",
    "    x, y = coordinates\n",
    "    return (0 <= x < arr.shape[0]) & (0 <= y < arr.shape[1])"
   ]
  },
  {
   "cell_type": "code",
   "execution_count": null,
   "metadata": {},
   "outputs": [],
   "source": [
    "data = parse(input_text)\n",
    "mem_shape = (71, 71)\n",
    "mem = np.full(mem_shape, \".\")\n",
    "fallen_bits = 1024\n",
    "init_walls = []\n",
    "for i, pos in enumerate(data):\n",
    "    if i == fallen_bits:\n",
    "        break\n",
    "    mem[pos] = \"#\"\n",
    "    init_walls.append(pos)\n"
   ]
  },
  {
   "cell_type": "markdown",
   "metadata": {},
   "source": [
    "### Part one"
   ]
  },
  {
   "cell_type": "code",
   "execution_count": null,
   "metadata": {},
   "outputs": [],
   "source": [
    "walls = init_walls.copy()\n",
    "\n",
    "    \n",
    "queue = []\n",
    "heapq.heappush(queue, (0, (0, 0)))\n",
    "visited = []\n",
    "dps = [(0, 1), (1, 0), (0, -1), (-1, 0)]\n",
    "end = add_tuple(mem_shape, (-1, -1))\n",
    "steps = 0\n",
    "iter = 0\n",
    "while queue:\n",
    "    iter += 1\n",
    "    cost, start_pos = heapq.heappop(queue)\n",
    "    # print(cost, start_pos)\n",
    "    if start_pos in visited:\n",
    "        continue\n",
    "    visited.append(start_pos)\n",
    "    \n",
    "    for pos in [add_tuple(start_pos, dp) for dp in dps]:\n",
    "        if not check_coords(mem, pos):\n",
    "            continue\n",
    "        if pos in walls:\n",
    "            continue\n",
    "        if pos in visited:\n",
    "            continue\n",
    "        if pos == end:\n",
    "            steps = cost + 1\n",
    "            break\n",
    "        heapq.heappush(queue, (cost + 1, pos))\n",
    "steps"
   ]
  },
  {
   "cell_type": "markdown",
   "metadata": {},
   "source": [
    "### Part two"
   ]
  },
  {
   "cell_type": "code",
   "execution_count": null,
   "metadata": {},
   "outputs": [],
   "source": [
    "def check_path(mem_shape, walls):\n",
    "    queue = []\n",
    "    heapq.heappush(queue, (0, (0, 0)))\n",
    "    visited = []\n",
    "    dps = [(0, 1), (1, 0), (0, -1), (-1, 0)]\n",
    "    end = add_tuple(mem_shape, (-1, -1))\n",
    "    steps = 0\n",
    "    iter = 0\n",
    "    while queue:\n",
    "        iter += 1\n",
    "        cost, start_pos = heapq.heappop(queue)\n",
    "        # print(cost, start_pos)\n",
    "        if start_pos in visited:\n",
    "            continue\n",
    "        visited.append(start_pos)\n",
    "        \n",
    "        for pos in [add_tuple(start_pos, dp) for dp in dps]:\n",
    "            if not check_coords(mem, pos):\n",
    "                continue\n",
    "            if pos in walls:\n",
    "                continue\n",
    "            if pos in visited:\n",
    "                continue\n",
    "            if pos == end:\n",
    "                steps = cost + 1\n",
    "                break\n",
    "            heapq.heappush(queue, (cost + 1, pos))\n",
    "        if steps > 0:\n",
    "            return True\n",
    "    return False"
   ]
  },
  {
   "cell_type": "code",
   "execution_count": null,
   "metadata": {},
   "outputs": [
    {
     "ename": "",
     "evalue": "",
     "output_type": "error",
     "traceback": [
      "\u001b[1;31mThe Kernel crashed while executing code in the current cell or a previous cell. \n",
      "\u001b[1;31mPlease review the code in the cell(s) to identify a possible cause of the failure. \n",
      "\u001b[1;31mClick <a href='https://aka.ms/vscodeJupyterKernelCrash'>here</a> for more info. \n",
      "\u001b[1;31mView Jupyter <a href='command:jupyter.viewOutput'>log</a> for further details."
     ]
    }
   ],
   "source": [
    "bit_lhs = fallen_bits\n",
    "bit_rhs = len(data)\n",
    "bits_checked = [bit_lhs, bit_rhs]\n",
    "while True:\n",
    "    mid_bit = (bit_lhs + bit_rhs) // 2\n",
    "    if bit_rhs == mid_bit + 1:\n",
    "        break\n",
    "    walls = []\n",
    "    init_walls = []\n",
    "    for i, pos in enumerate(data):\n",
    "        if i == mid_bit:\n",
    "            break\n",
    "        init_walls.append(pos)\n",
    "    if check_path(mem_shape, init_walls):\n",
    "        bit_lhs = mid_bit\n",
    "    else:\n",
    "        bit_rhs = mid_bit\n",
    "print(mid_bit, data[mid_bit])\n"
   ]
  }
 ],
 "metadata": {
  "kernelspec": {
   "display_name": "Python 3",
   "language": "python",
   "name": "python3"
  },
  "language_info": {
   "codemirror_mode": {
    "name": "ipython",
    "version": 3
   },
   "file_extension": ".py",
   "mimetype": "text/x-python",
   "name": "python",
   "nbconvert_exporter": "python",
   "pygments_lexer": "ipython3",
   "version": "3.12.3"
  }
 },
 "nbformat": 4,
 "nbformat_minor": 2
}
