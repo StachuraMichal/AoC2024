{
 "cells": [
  {
   "cell_type": "code",
   "execution_count": null,
   "metadata": {},
   "outputs": [],
   "source": [
    "import numpy as np \n",
    "import re"
   ]
  },
  {
   "cell_type": "code",
   "execution_count": null,
   "metadata": {},
   "outputs": [],
   "source": [
    "test_text = \"\"\"r, wr, b, g, bwu, rb, gb, br\n",
    "\n",
    "brwrr\n",
    "bggr\n",
    "gbbr\n",
    "rrbgbr\n",
    "ubwu\n",
    "bwurrg\n",
    "brgr\n",
    "bbrgwb\"\"\""
   ]
  },
  {
   "cell_type": "code",
   "execution_count": null,
   "metadata": {},
   "outputs": [],
   "source": [
    "with open(\"input.txt\") as f:\n",
    "    input_text = f.read()"
   ]
  },
  {
   "cell_type": "code",
   "execution_count": null,
   "metadata": {},
   "outputs": [],
   "source": [
    "def parse(text: str):\n",
    "    towels_str, patters_str = text.strip().split(\"\\n\\n\")\n",
    "    towels = towels_str.split(\", \")\n",
    "    patterns = patters_str.split(\"\\n\")\n",
    "    return towels, patterns"
   ]
  },
  {
   "cell_type": "code",
   "execution_count": null,
   "metadata": {},
   "outputs": [],
   "source": [
    "def calc_pattern(pattern, towels):\n",
    "    subpatterns = []\n",
    "    if not pattern:\n",
    "        return 1\n",
    "    for towel in towels:\n",
    "        if pattern[:len(towel)] == towel:\n",
    "            subpatterns.append(pattern[len(towel):])\n",
    "    if not subpatterns:\n",
    "        return 0\n",
    "    check_sum = 0\n",
    "    for subpattern in subpatterns:\n",
    "        check_sum += calc_pattern(subpattern, towels)\n",
    "    return check_sum\n"
   ]
  },
  {
   "cell_type": "code",
   "execution_count": null,
   "metadata": {},
   "outputs": [],
   "source": [
    "def split_pattern(pattern: str, towels: list, pos: int, max_towel_len: int):\n",
    "    partial_patterns = []\n",
    "    for towel in towels:\n",
    "        matches = [x for x in re.finditer(r\"(?=(\"+towel+r\"))\", pattern)]\n",
    "        for m in matches:\n",
    "            if pos in range(m.start(1), m.end(1)):\n",
    "                partial_patterns.append((pattern[:m.start(1)], pattern[m.end(1):]))\n",
    "    return partial_patterns\n",
    "                \n",
    "def calc_fractal_pattern_rec(pattern, towels, max_len, rec_size = 13):\n",
    "    if len(pattern) <= rec_size:\n",
    "        return calc_pattern(pattern, towels)\n",
    "    half_patterns = split_pattern(pattern, towels, len(pattern) // 2, max_len)\n",
    "    num_patterns = 0\n",
    "    for halfs in half_patterns:\n",
    "        half_sums = []\n",
    "        for half in halfs:\n",
    "            if len(half) > 0:\n",
    "                half_sums.append(calc_fractal_pattern_rec(half, towels, max_len, rec_size))\n",
    "            else:\n",
    "                half_sums.append(1)\n",
    "        num_patterns += half_sums[0] * half_sums[1]\n",
    "    return num_patterns"
   ]
  },
  {
   "cell_type": "code",
   "execution_count": null,
   "metadata": {},
   "outputs": [],
   "source": [
    "towels, patterns = parse(input_text)\n",
    "max_len = len(max(towels, key=lambda x: len(x)))\n",
    "check_sum = 0\n",
    "valid_patterns = 0\n",
    "for i, pattern in enumerate(patterns):\n",
    "    print(i, len(patterns), pattern)\n",
    "    possible_patterns = calc_fractal_pattern_rec(pattern, towels, max_len, 8)\n",
    "    if possible_patterns > 0:\n",
    "        valid_patterns += 1\n",
    "        check_sum += possible_patterns\n",
    "print(\"-\"*10)\n",
    "print(\"Part one:\", valid_patterns)\n",
    "print(\"Part two:\", check_sum)\n"
   ]
  }
 ],
 "metadata": {
  "kernelspec": {
   "display_name": "Python 3",
   "language": "python",
   "name": "python3"
  },
  "language_info": {
   "codemirror_mode": {
    "name": "ipython",
    "version": 3
   },
   "file_extension": ".py",
   "mimetype": "text/x-python",
   "name": "python",
   "nbconvert_exporter": "python",
   "pygments_lexer": "ipython3",
   "version": "3.12.3"
  }
 },
 "nbformat": 4,
 "nbformat_minor": 2
}
