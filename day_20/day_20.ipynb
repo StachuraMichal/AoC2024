{
 "cells": [
  {
   "cell_type": "code",
   "execution_count": null,
   "metadata": {},
   "outputs": [],
   "source": [
    "import numpy as np\n",
    "import heapq\n",
    "from matplotlib import pyplot as plt"
   ]
  },
  {
   "cell_type": "code",
   "execution_count": null,
   "metadata": {},
   "outputs": [],
   "source": [
    "test_text = \"\"\"###############\n",
    "#...#...#.....#\n",
    "#.#.#.#.#.###.#\n",
    "#S#...#.#.#...#\n",
    "#######.#.#.###\n",
    "#######.#.#...#\n",
    "#######.#.###.#\n",
    "###..E#...#...#\n",
    "###.#######.###\n",
    "#...###...#...#\n",
    "#.#####.#.###.#\n",
    "#.#...#.#.#...#\n",
    "#.#.#.#.#.#.###\n",
    "#...#...#...###\n",
    "###############\"\"\""
   ]
  },
  {
   "cell_type": "code",
   "execution_count": null,
   "metadata": {},
   "outputs": [],
   "source": [
    "with open(\"input.txt\") as f:\n",
    "    data_text = f.read()"
   ]
  },
  {
   "cell_type": "code",
   "execution_count": null,
   "metadata": {},
   "outputs": [],
   "source": [
    "def add_tuple(a, b):\n",
    "    return(a[0] + b[0], a[1] + b[1])\n",
    "\n",
    "def check_coords(arr_shape, coordinates):\n",
    "    x, y = coordinates\n",
    "    return (0 <= x < arr_shape[0]) & (0 <= y < arr_shape[1])"
   ]
  },
  {
   "cell_type": "code",
   "execution_count": null,
   "metadata": {},
   "outputs": [],
   "source": [
    "def parse(text: str):\n",
    "    arr = np.array([[s for s in line] for line in text.strip().split(\"\\n\")])\n",
    "    walls = [(int(x), int(y)) for x, y in zip(*np.where(arr == \"#\"))]\n",
    "    start = tuple(map(int, np.where(arr == \"S\")))\n",
    "    end = tuple(map(int, np.where(arr == \"E\")))\n",
    "    return arr, walls, start, end"
   ]
  },
  {
   "cell_type": "code",
   "execution_count": null,
   "metadata": {},
   "outputs": [],
   "source": [
    "def check_path(mem_shape, start, end, walls):\n",
    "    queue = []\n",
    "    heapq.heappush(queue, (0, start))\n",
    "    visited = []\n",
    "    dps = [(0, 1), (1, 0), (0, -1), (-1, 0)]\n",
    "    steps = 0\n",
    "    iter = 0\n",
    "    while queue:\n",
    "        iter += 1\n",
    "        cost, start_pos = heapq.heappop(queue)\n",
    "        # print(cost, start_pos)\n",
    "        if start_pos in visited:\n",
    "            continue\n",
    "        visited.append(start_pos)\n",
    "        \n",
    "        for pos in [add_tuple(start_pos, dp) for dp in dps]:\n",
    "            if not check_coords(mem_shape, pos):\n",
    "                continue\n",
    "            if pos in walls:\n",
    "                continue\n",
    "            if pos in visited:\n",
    "                continue\n",
    "            if pos == end:\n",
    "                steps = cost + 1\n",
    "                break\n",
    "            heapq.heappush(queue, (cost + 1, pos))\n",
    "    return steps, visited\n"
   ]
  },
  {
   "cell_type": "code",
   "execution_count": null,
   "metadata": {},
   "outputs": [],
   "source": [
    "def get_tile_scores(mem_shape, start, walls):\n",
    "    queue = []\n",
    "    out_map = np.full(mem_shape, -1)\n",
    "    out_map[start] = 0\n",
    "    heapq.heappush(queue, (0, start))\n",
    "    visited = []\n",
    "    dps = [(0, 1), (1, 0), (0, -1), (-1, 0)]\n",
    "    iter = 0\n",
    "    while queue:\n",
    "        iter += 1\n",
    "        cost, start_pos = heapq.heappop(queue)\n",
    "        if start_pos in visited:\n",
    "            continue\n",
    "        visited.append(start_pos)\n",
    "        \n",
    "        for pos in [add_tuple(start_pos, dp) for dp in dps]:\n",
    "            if not check_coords(mem_shape, pos):\n",
    "                continue\n",
    "            if pos in walls:\n",
    "                continue\n",
    "            if pos in visited:\n",
    "                continue\n",
    "            out_map[pos] = cost + 1\n",
    "\n",
    "            heapq.heappush(queue, (cost + 1, pos))\n",
    "    return out_map"
   ]
  },
  {
   "cell_type": "code",
   "execution_count": null,
   "metadata": {},
   "outputs": [],
   "source": [
    "arr, walls, start, end = parse(data_text)\n",
    "score_map_start = get_tile_scores(arr.shape, start, walls)\n",
    "score_map_end = get_tile_scores(arr.shape, end, walls)\n",
    "score_map_print = np.where(score_map_end == -1, arr, score_map_end)\n"
   ]
  },
  {
   "cell_type": "code",
   "execution_count": null,
   "metadata": {},
   "outputs": [],
   "source": [
    "def iterate_map(map: np.ndarray):\n",
    "    walls = [(int(x), int(y)) for x, y in zip(*np.where(map == -1))]\n",
    "    dps = [(0, 1), (1, 0), (0, -1), (-1, 0)]\n",
    "    res_map = map.copy()\n",
    "    for wall in walls:\n",
    "        for dp in dps:\n",
    "            candidate = add_tuple(wall, dp)\n",
    "            if not check_coords(map.shape, candidate):\n",
    "                continue\n",
    "            if map[candidate] == -1:\n",
    "                continue\n",
    "            if res_map[wall] == -1:\n",
    "                res_map[wall] = map[candidate] + 1\n",
    "            if map[candidate]  + 1 < res_map[wall]:\n",
    "                res_map[wall] = map[candidate] + 1\n",
    "    return res_map"
   ]
  },
  {
   "cell_type": "code",
   "execution_count": null,
   "metadata": {},
   "outputs": [],
   "source": [
    "def get_cheat_ends(start_arr, end_arr, pos, walls, score_th):\n",
    "    points = [pos]\n",
    "    scores = [start_arr[pos]]\n",
    "    visited = [pos]\n",
    "    targets = []\n",
    "    first_run = True\n",
    "    for _ in range(20):\n",
    "        new_points = []\n",
    "        new_scores = []\n",
    "        for i, pos_i in enumerate(points):\n",
    "            visited.append(pos_i)\n",
    "            if pos_i not in walls and not first_run:\n",
    "                if end_arr[pos_i] + scores[i] < score_th and pos_i not in targets:\n",
    "                    targets.append(pos_i)\n",
    "                continue\n",
    "            first_run = False\n",
    "            dps = [(0, 1), (1, 0), (0, -1), (-1, 0)]\n",
    "            for dp in dps:\n",
    "                candidate = add_tuple(pos_i, dp)\n",
    "                if candidate in visited:\n",
    "                    continue\n",
    "                if not check_coords(start_arr.shape, candidate):\n",
    "                    continue\n",
    "                new_points.append(candidate)\n",
    "                new_scores.append(scores[i] + 1)\n",
    "    \n",
    "        points = new_points.copy()\n",
    "        scores = new_scores.copy()\n",
    "    return len(targets)\n",
    "                \n",
    "                "
   ]
  },
  {
   "cell_type": "code",
   "execution_count": null,
   "metadata": {},
   "outputs": [],
   "source": [
    "def get_cheat_ends(start_arr, end_arr, pos, walls, score_th):\n",
    "    targets = 0\n",
    "    kernel_size = 20\n",
    "    for x in range(-kernel_size, kernel_size + 1):\n",
    "        for y in range(-kernel_size, kernel_size + 1): \n",
    "            if abs(x) + abs(y) > kernel_size:\n",
    "                continue\n",
    "            candidate = add_tuple((x, y), pos)\n",
    "            if not check_coords(start_arr.shape, candidate):\n",
    "                continue\n",
    "            end_score = end_arr[candidate]\n",
    "            start_score = start_arr[pos]\n",
    "            \n",
    "            if end_score == -1 or start_score == -1:\n",
    "                continue\n",
    "            \n",
    "            score = start_arr[pos] + abs(x) + abs(y) + end_score\n",
    "            if score <= score_th:\n",
    "                targets += 1\n",
    "    return targets"
   ]
  },
  {
   "cell_type": "markdown",
   "metadata": {},
   "source": [
    "### Part one"
   ]
  },
  {
   "cell_type": "code",
   "execution_count": null,
   "metadata": {},
   "outputs": [],
   "source": [
    "arr, walls, start, end = parse(data_text)\n",
    "score_map_start = get_tile_scores(arr.shape, start, walls)\n",
    "score_map_end = get_tile_scores(arr.shape, end, walls)\n",
    "basic_score, visited = check_path(arr.shape, start, end, walls)\n",
    "walls_idxs = []\n",
    "for wall in walls:\n",
    "    dps = [(0, 1), (1, 0), (0, -1), (-1, 0)]\n",
    "    min_end_dist = float('inf')\n",
    "    min_start_dist = float('inf')\n",
    "    for dp in dps:\n",
    "        candidate = add_tuple(wall, dp)\n",
    "        if not check_coords(arr.shape, candidate):\n",
    "            continue\n",
    "        end_dist = score_map_end[candidate]\n",
    "        start_dist = score_map_start[candidate]\n",
    "        if end_dist != -1:\n",
    "            min_end_dist = min(min_end_dist, end_dist)\n",
    "        if start_dist != -1:\n",
    "            min_start_dist = min(min_start_dist, start_dist)\n",
    "    saved_time = float(basic_score - (min_start_dist + min_end_dist + 2))\n",
    "    if saved_time >= 100:\n",
    "        walls_idxs.append((wall, saved_time))\n",
    "print(len(walls_idxs))"
   ]
  },
  {
   "cell_type": "markdown",
   "metadata": {},
   "source": [
    "### Part two"
   ]
  },
  {
   "cell_type": "code",
   "execution_count": null,
   "metadata": {},
   "outputs": [],
   "source": [
    "arr, walls, start, end = parse(data_text)\n",
    "score_map_start = get_tile_scores(arr.shape, start, walls)\n",
    "score_map_end = get_tile_scores(arr.shape, end, walls)\n",
    "basic_score, visited = check_path(arr.shape, start, end, walls)\n",
    "walls_idxs = []\n",
    "\n",
    "not_walls = [(int(x), int(y)) for x, y in zip(*np.where(arr != \"#\"))]\n",
    "\n",
    "target_cnt = 0\n",
    "for i, candidate in enumerate(not_walls):\n",
    "    if candidate not in visited:\n",
    "        continue\n",
    "    target_cnt += get_cheat_ends(score_map_start, score_map_end, candidate, walls, basic_score - 100)\n",
    "print(target_cnt)\n"
   ]
  }
 ],
 "metadata": {
  "kernelspec": {
   "display_name": "Python 3",
   "language": "python",
   "name": "python3"
  },
  "language_info": {
   "codemirror_mode": {
    "name": "ipython",
    "version": 3
   },
   "file_extension": ".py",
   "mimetype": "text/x-python",
   "name": "python",
   "nbconvert_exporter": "python",
   "pygments_lexer": "ipython3",
   "version": "3.12.3"
  }
 },
 "nbformat": 4,
 "nbformat_minor": 2
}
