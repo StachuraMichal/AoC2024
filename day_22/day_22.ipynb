{
 "cells": [
  {
   "cell_type": "code",
   "execution_count": null,
   "metadata": {},
   "outputs": [],
   "source": [
    "import numpy as np\n",
    "from collections import deque"
   ]
  },
  {
   "cell_type": "code",
   "execution_count": null,
   "metadata": {},
   "outputs": [],
   "source": [
    "test_text = \"\"\"1\n",
    "2\n",
    "3\n",
    "2024\"\"\""
   ]
  },
  {
   "cell_type": "code",
   "execution_count": null,
   "metadata": {},
   "outputs": [],
   "source": [
    "with open(\"input.txt\") as f:\n",
    "    input_text = f.read()"
   ]
  },
  {
   "cell_type": "code",
   "execution_count": null,
   "metadata": {},
   "outputs": [],
   "source": [
    "def generate_next_secret(secret):\n",
    "    next_secret = secret\n",
    "    next_secret = ((next_secret * 64) ^ next_secret) % 16777216\n",
    "    next_secret = ((next_secret // 32) ^ next_secret) % 16777216\n",
    "    next_secret = ((next_secret * 2048) ^ next_secret) % 16777216\n",
    "    return next_secret    "
   ]
  },
  {
   "cell_type": "markdown",
   "metadata": {},
   "source": [
    "### Part one"
   ]
  },
  {
   "cell_type": "code",
   "execution_count": null,
   "metadata": {},
   "outputs": [],
   "source": [
    "initial_numbers = [int(x) for x in input_text.strip().split(\"\\n\")]\n",
    "check_sum = 0\n",
    "for i, num in enumerate(initial_numbers):\n",
    "    for _ in range(2000):\n",
    "        num = generate_next_secret(num)\n",
    "    check_sum += num\n",
    "check_sum"
   ]
  },
  {
   "cell_type": "markdown",
   "metadata": {},
   "source": [
    "### Part two"
   ]
  },
  {
   "cell_type": "code",
   "execution_count": null,
   "metadata": {},
   "outputs": [],
   "source": [
    "initial_numbers = [int(x) for x in input_text.strip().split(\"\\n\")]\n",
    "check_sum = 0\n",
    "sequence_dicts = [dict() for _ in initial_numbers]\n",
    "for i, num in enumerate(initial_numbers):\n",
    "    sequence = deque(maxlen=4)\n",
    "    secret = num\n",
    "    prev = int(str(secret)[-1])\n",
    "    for _ in range(2000):\n",
    "        secret = generate_next_secret(secret)\n",
    "        price = int(str(secret)[-1])\n",
    "        sequence.append(price - prev)\n",
    "        if len(sequence) == 4:\n",
    "            sequence_str = \"\".join(str(s) for s in sequence)\n",
    "            if not sequence_str in sequence_dicts[i]:\n",
    "                sequence_dicts[i][sequence_str] = price\n",
    "        prev = price\n",
    "    check_sum += secret\n",
    "cum_dict = dict()\n",
    "\n",
    "for seq_dict in sequence_dicts:\n",
    "    for k, v in seq_dict.items():\n",
    "        if not k in cum_dict:\n",
    "            cum_dict[k] = v\n",
    "        else:\n",
    "            cum_dict[k] += v\n",
    "max_key = max(cum_dict, key=cum_dict.get)\n",
    "\n",
    "print(cum_dict[max_key])\n",
    "    "
   ]
  }
 ],
 "metadata": {
  "kernelspec": {
   "display_name": "Python 3",
   "language": "python",
   "name": "python3"
  },
  "language_info": {
   "codemirror_mode": {
    "name": "ipython",
    "version": 3
   },
   "file_extension": ".py",
   "mimetype": "text/x-python",
   "name": "python",
   "nbconvert_exporter": "python",
   "pygments_lexer": "ipython3",
   "version": "3.12.3"
  }
 },
 "nbformat": 4,
 "nbformat_minor": 2
}
