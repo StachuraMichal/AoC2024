{
 "cells": [
  {
   "cell_type": "code",
   "execution_count": null,
   "metadata": {},
   "outputs": [],
   "source": [
    "import numpy as np\n",
    "import itertools"
   ]
  },
  {
   "cell_type": "code",
   "execution_count": null,
   "metadata": {},
   "outputs": [],
   "source": [
    "test_text = \"\"\"kh-tc\n",
    "qp-kh\n",
    "de-cg\n",
    "ka-co\n",
    "yn-aq\n",
    "qp-ub\n",
    "cg-tb\n",
    "vc-aq\n",
    "tb-ka\n",
    "wh-tc\n",
    "yn-cg\n",
    "kh-ub\n",
    "ta-co\n",
    "de-co\n",
    "tc-td\n",
    "tb-wq\n",
    "wh-td\n",
    "ta-ka\n",
    "td-qp\n",
    "aq-cg\n",
    "wq-ub\n",
    "ub-vc\n",
    "de-ta\n",
    "wq-aq\n",
    "wq-vc\n",
    "wh-yn\n",
    "ka-de\n",
    "kh-ta\n",
    "co-tc\n",
    "wh-qp\n",
    "tb-vc\n",
    "td-yn\"\"\""
   ]
  },
  {
   "cell_type": "code",
   "execution_count": null,
   "metadata": {},
   "outputs": [],
   "source": [
    "with open(\"input.txt\") as f:\n",
    "    input_text = f.read()"
   ]
  },
  {
   "cell_type": "code",
   "execution_count": null,
   "metadata": {},
   "outputs": [],
   "source": [
    "def get_connections(text: str):\n",
    "    connection_str = [s for s in text.strip().split(\"\\n\")]\n",
    "    connection_dict = dict()\n",
    "    for conn_str in connection_str:\n",
    "        left, right = conn_str.split(\"-\")\n",
    "        if left in connection_dict:\n",
    "            connection_dict[left].append(right)\n",
    "        else:\n",
    "            connection_dict[left] = [right]\n",
    "        if right in connection_dict:\n",
    "            connection_dict[right].append(left)\n",
    "        else:\n",
    "            connection_dict[right] = [left]\n",
    "    return connection_dict"
   ]
  },
  {
   "cell_type": "code",
   "execution_count": null,
   "metadata": {},
   "outputs": [],
   "source": [
    "def check_t(candidate: list):\n",
    "    for node in candidate:\n",
    "        if node[0] == \"t\":\n",
    "            return True\n",
    "    return False"
   ]
  },
  {
   "cell_type": "markdown",
   "metadata": {},
   "source": [
    "### Part one"
   ]
  },
  {
   "cell_type": "code",
   "execution_count": null,
   "metadata": {},
   "outputs": [],
   "source": [
    "connection_dict = get_connections(input_text)\n",
    "triangles = []\n",
    "for k, v in connection_dict.items():\n",
    "    base_connections = v\n",
    "    for candidate in base_connections:\n",
    "        candidate_connections = connection_dict[candidate]\n",
    "        for third in candidate_connections:\n",
    "            if third in base_connections:\n",
    "                triangle_candidate = [k, candidate, third]\n",
    "                if check_t(triangle_candidate):\n",
    "                    triangles.append(triangle_candidate)\n",
    "\n",
    "triangles = [ \"\".join([str(i) for i in sorted(triangle)]) for triangle in triangles]\n",
    "triangles = set([triangle for triangle in triangles if \"t\" in triangle])\n",
    "print(len(triangles))\n"
   ]
  },
  {
   "cell_type": "code",
   "execution_count": null,
   "metadata": {},
   "outputs": [],
   "source": [
    "def is_connected(left, right, connection_dict):\n",
    "    for i in left:\n",
    "        for j in right:\n",
    "            if i == j:\n",
    "                continue\n",
    "            if j not in connection_dict[i]:\n",
    "                return False\n",
    "    return True"
   ]
  },
  {
   "cell_type": "markdown",
   "metadata": {},
   "source": [
    "### Part two"
   ]
  },
  {
   "cell_type": "code",
   "execution_count": null,
   "metadata": {},
   "outputs": [
    {
     "ename": "",
     "evalue": "",
     "output_type": "error",
     "traceback": [
      "\u001b[1;31mThe Kernel crashed while executing code in the current cell or a previous cell. \n",
      "\u001b[1;31mPlease review the code in the cell(s) to identify a possible cause of the failure. \n",
      "\u001b[1;31mClick <a href='https://aka.ms/vscodeJupyterKernelCrash'>here</a> for more info. \n",
      "\u001b[1;31mView Jupyter <a href='command:jupyter.viewOutput'>log</a> for further details."
     ]
    }
   ],
   "source": [
    "connection_dict = get_connections(input_text)\n",
    "largest_set = []\n",
    "triangles = []\n",
    "for k, v in connection_dict.items():\n",
    "    base_connections = v\n",
    "    largest_triangle = []\n",
    "    for candidate in base_connections:\n",
    "        candidate_connections = connection_dict[candidate]\n",
    "        for third in candidate_connections:\n",
    "            if third in base_connections:\n",
    "                triangle_candidate = [k, candidate, third]\n",
    "                triangles.append(triangle_candidate)\n",
    "triangles = [ tuple(sorted(triangle)) for triangle in triangles]\n",
    "triangles = list(set(triangles))\n",
    "\n",
    "combinations = itertools.combinations(triangles, 2)\n",
    "blobs = []\n",
    "first_loop = True\n",
    "while True:\n",
    "    prev_blob_size = len(blobs)\n",
    "    for left, right in combinations:\n",
    "        if left == right:\n",
    "            continue\n",
    "        if is_connected(left, right, connection_dict):\n",
    "            blob = tuple(sorted(set(left + right)))\n",
    "            blobs.append(blob)\n",
    "    blobs = list(set(blobs))\n",
    "    if len(blobs) == prev_blob_size:\n",
    "        break\n",
    "    \n",
    "    max_len = len(max(blobs, key=lambda x: len(x)))\n",
    "    blobs = [blob for blob in blobs if len(blob) == max_len]\n",
    "    print(len(triangles), len(blobs))\n",
    "    combinations = itertools.product(blobs, triangles)\n",
    "    first_loop = False\n",
    "max_item = max(blobs, key=lambda x: len(x))\n",
    "print(\",\".join([s for s in max_item]))\n"
   ]
  }
 ],
 "metadata": {
  "kernelspec": {
   "display_name": "Python 3",
   "language": "python",
   "name": "python3"
  },
  "language_info": {
   "codemirror_mode": {
    "name": "ipython",
    "version": 3
   },
   "file_extension": ".py",
   "mimetype": "text/x-python",
   "name": "python",
   "nbconvert_exporter": "python",
   "pygments_lexer": "ipython3",
   "version": "3.12.3"
  }
 },
 "nbformat": 4,
 "nbformat_minor": 2
}
