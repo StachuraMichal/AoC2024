{
 "cells": [
  {
   "cell_type": "code",
   "execution_count": null,
   "metadata": {},
   "outputs": [],
   "source": [
    "import re\n",
    "import numpy as np\n",
    "from collections import namedtuple\n",
    "\n",
    "Gate = namedtuple(\"Gate\", [\"in1\", \"in2\", \"out\", \"op\"])\n",
    "\n",
    "op = dict()\n",
    "op[\"AND\"] = bool.__and__\n",
    "op[\"OR\"] = bool.__or__\n",
    "op[\"XOR\"] = bool.__xor__"
   ]
  },
  {
   "cell_type": "code",
   "execution_count": null,
   "metadata": {},
   "outputs": [],
   "source": [
    "test_text = \"\"\"x00: 1\n",
    "x01: 0\n",
    "x02: 1\n",
    "x03: 1\n",
    "x04: 0\n",
    "y00: 1\n",
    "y01: 1\n",
    "y02: 1\n",
    "y03: 1\n",
    "y04: 1\n",
    "\n",
    "ntg XOR fgs -> mjb\n",
    "y02 OR x01 -> tnw\n",
    "kwq OR kpj -> z05\n",
    "x00 OR x03 -> fst\n",
    "tgd XOR rvg -> z01\n",
    "vdt OR tnw -> bfw\n",
    "bfw AND frj -> z10\n",
    "ffh OR nrd -> bqk\n",
    "y00 AND y03 -> djm\n",
    "y03 OR y00 -> psh\n",
    "bqk OR frj -> z08\n",
    "tnw OR fst -> frj\n",
    "gnj AND tgd -> z11\n",
    "bfw XOR mjb -> z00\n",
    "x03 OR x00 -> vdt\n",
    "gnj AND wpb -> z02\n",
    "x04 AND y00 -> kjc\n",
    "djm OR pbm -> qhw\n",
    "nrd AND vdt -> hwm\n",
    "kjc AND fst -> rvg\n",
    "y04 OR y02 -> fgs\n",
    "y01 AND x02 -> pbm\n",
    "ntg OR kjc -> kwq\n",
    "psh XOR fgs -> tgd\n",
    "qhw XOR tgd -> z09\n",
    "pbm OR djm -> kpj\n",
    "x03 XOR y03 -> ffh\n",
    "x00 XOR y04 -> ntg\n",
    "bfw OR bqk -> z06\n",
    "nrd XOR fgs -> wpb\n",
    "frj XOR qhw -> z04\n",
    "bqk OR frj -> z07\n",
    "y03 OR x01 -> nrd\n",
    "hwm AND bqk -> z03\n",
    "tgd XOR rvg -> z12\n",
    "tnw OR pbm -> gnj\"\"\""
   ]
  },
  {
   "cell_type": "code",
   "execution_count": null,
   "metadata": {},
   "outputs": [],
   "source": [
    "with open(\"input.txt\") as f:\n",
    "    input_text = f.read()"
   ]
  },
  {
   "cell_type": "code",
   "execution_count": null,
   "metadata": {},
   "outputs": [],
   "source": [
    "def parse_input(text: str):\n",
    "    initial_values, gates_str = text.strip().split(\"\\n\\n\")\n",
    "    wires = dict()\n",
    "    gates = []\n",
    "    for gate_str in gates_str.split(\"\\n\"):\n",
    "        command, out = gate_str.split(\" -> \")\n",
    "        in1, op, in2 = command.split()\n",
    "        gates.append(Gate(in1, in2, out, op))\n",
    "        for wire in [in1, in2, out]:\n",
    "            wires[wire] = None\n",
    "    for initial_str in initial_values.split(\"\\n\"):\n",
    "        wire, val = initial_str.split(\": \")\n",
    "        wires[wire] = bool(int(val))\n",
    "    return wires, gates\n",
    "    "
   ]
  },
  {
   "cell_type": "code",
   "execution_count": null,
   "metadata": {},
   "outputs": [],
   "source": [
    "def is_ready(gate: Gate, wires):\n",
    "    if wires[gate.in1] == None or wires[gate.in2] == None:\n",
    "        return False\n",
    "    return True\n",
    "\n",
    "def do_op(gate: Gate, wires):\n",
    "    return op[gate.op](wires[gate.in1], wires[gate.in2])\n",
    "\n",
    "def get_z(wires: dict):\n",
    "    zs = []\n",
    "    for k, v in wires.items():\n",
    "        if \"z\" in k:\n",
    "            zs.append((k, v))\n",
    "    zs.sort(key=lambda x: x[0])\n",
    "    ret = 0\n",
    "    for i, z in enumerate(zs):\n",
    "        ret += z[1] * 1<<i\n",
    "    return ret, zs\n",
    "\n",
    "def process(wires, gates):\n",
    "    gates_cpy = gates.copy()\n",
    "    while gates_cpy:\n",
    "        for i, gate in enumerate(gates_cpy):\n",
    "            if is_ready(gate, wires):\n",
    "                wires[gate.out] = do_op(gate, wires)\n",
    "                gates_cpy.pop(i) \n",
    "    return get_z(wires)\n",
    "\n",
    "def swap_output(gates: list, source_key, target_key):\n",
    "    fix_gates = gates.copy()\n",
    "    for i, gate in enumerate(fix_gates):\n",
    "        if gate.out == target_key:\n",
    "            target_idx = i\n",
    "            target_gate = gate\n",
    "        if gate.out == source_key:\n",
    "            source_idx = i\n",
    "            source_gate = gate\n",
    "    target_gate, source_gate = Gate(source_gate.in1, source_gate.in2, target_key, source_gate.op), Gate(target_gate.in1, target_gate.in2, source_key, target_gate.op)\n",
    "    \n",
    "    fix_gates[source_idx], fix_gates[target_idx] = source_gate, target_gate\n",
    "    return fix_gates"
   ]
  },
  {
   "cell_type": "markdown",
   "metadata": {},
   "source": [
    "### Part one"
   ]
  },
  {
   "cell_type": "code",
   "execution_count": null,
   "metadata": {},
   "outputs": [],
   "source": [
    "wires, gates = parse_input(input_text)\n",
    "gate: Gate\n",
    "\n",
    "process(wires, gates)[0]"
   ]
  },
  {
   "cell_type": "markdown",
   "metadata": {},
   "source": [
    "### Part two"
   ]
  },
  {
   "cell_type": "code",
   "execution_count": null,
   "metadata": {},
   "outputs": [],
   "source": [
    "outputs_to_swap = [(\"z11\", \"rpv\"), (\"ctg\", \"rpb\"), (\"dmh\", \"z31\"), (\"dvq\", \"z38\")]"
   ]
  },
  {
   "cell_type": "code",
   "execution_count": null,
   "metadata": {},
   "outputs": [],
   "source": [
    "wires, gates = parse_input(input_text)\n",
    "gate: Gate\n",
    "initial_wires = wires.copy()\n",
    "for out1, out2 in outputs_to_swap:\n",
    "    gates = swap_output(gates, out1, out2)\n",
    "x_gates = [gate for gate in gates if gate.in1 == \"rtg\" or gate.in2 == \"rtg\"]\n",
    "\n",
    "x_wires_keys = sorted([k for k in wires.keys() if \"x\" in k])\n",
    "y_wires_keys = sorted([k for k in wires.keys() if \"y\" in k])\n",
    "for i, x in enumerate(x_wires_keys):\n",
    "    wires_x = dict().fromkeys(wires, None)\n",
    "    for key in x_wires_keys:\n",
    "        wires_x[key] = False\n",
    "    for key in y_wires_keys:\n",
    "        wires_x[key] = False\n",
    "        \n",
    "    expected = 1<<i\n",
    "    wires_x[x] = True\n",
    "    val, zs = process(wires_x, gates)\n",
    "    if val != expected:\n",
    "        print(x, val, expected)\n",
    "        \n",
    "for i, x in enumerate(y_wires_keys):\n",
    "    wires_y = dict().fromkeys(wires, None)\n",
    "    for key in x_wires_keys:\n",
    "        wires_y[key] = False\n",
    "    for key in y_wires_keys:\n",
    "        wires_y[key] = False\n",
    "        \n",
    "    expected = 1<<i\n",
    "    wires_y[x] = True\n",
    "    val, zs = process(wires_y, gates)\n",
    "    if val != expected:\n",
    "        print(x, val, expected)\n",
    "        "
   ]
  },
  {
   "cell_type": "code",
   "execution_count": null,
   "metadata": {},
   "outputs": [],
   "source": [
    "out = []\n",
    "for pair in outputs_to_swap:\n",
    "    out += list(pair)\n",
    "out.sort()\n",
    "out\n",
    "\",\".join(out)"
   ]
  },
  {
   "cell_type": "code",
   "execution_count": null,
   "metadata": {},
   "outputs": [],
   "source": [
    "x11_gates = [gate for gate in gates if gate.in1 == \"x38\" or gate.in2 == \"x38\"]\n",
    "print(x11_gates)\n",
    "key = \"hhv\"\n",
    "searched_gate = [gate for gate in gates if gate.in1 == key or gate.in2 == key or gate.out == key]\n",
    "print(searched_gate)\n",
    "source_key = \"ctg\"\n",
    "target_key = \"rpb\"\n",
    "for i, gate in enumerate(gates):\n",
    "    if gate.out == target_key:\n",
    "        target_idx = i\n",
    "        target_gate = gate\n",
    "    if gate.out == source_key:\n",
    "        source_idx = i\n",
    "        source_gate = gate\n",
    "target_gate, source_gate = Gate(source_gate.in1, source_gate.in2, target_key, source_gate.op), Gate(target_gate.in1, target_gate.in2, source_key, target_gate.op)\n",
    " \n",
    "gates_fix2 = gates.copy()\n",
    "gates_fix2[source_idx], gates_fix2[target_idx] = source_gate, target_gate\n"
   ]
  }
 ],
 "metadata": {
  "kernelspec": {
   "display_name": "Python 3",
   "language": "python",
   "name": "python3"
  },
  "language_info": {
   "codemirror_mode": {
    "name": "ipython",
    "version": 3
   },
   "file_extension": ".py",
   "mimetype": "text/x-python",
   "name": "python",
   "nbconvert_exporter": "python",
   "pygments_lexer": "ipython3",
   "version": "3.12.3"
  }
 },
 "nbformat": 4,
 "nbformat_minor": 2
}
