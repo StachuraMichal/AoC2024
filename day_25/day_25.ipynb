{
 "cells": [
  {
   "cell_type": "code",
   "execution_count": null,
   "metadata": {},
   "outputs": [],
   "source": [
    "import numpy as np\n",
    "from itertools import product"
   ]
  },
  {
   "cell_type": "code",
   "execution_count": null,
   "metadata": {},
   "outputs": [],
   "source": [
    "test_text = \"\"\"#####\n",
    ".####\n",
    ".####\n",
    ".####\n",
    ".#.#.\n",
    ".#...\n",
    ".....\n",
    "\n",
    "#####\n",
    "##.##\n",
    ".#.##\n",
    "...##\n",
    "...#.\n",
    "...#.\n",
    ".....\n",
    "\n",
    ".....\n",
    "#....\n",
    "#....\n",
    "#...#\n",
    "#.#.#\n",
    "#.###\n",
    "#####\n",
    "\n",
    ".....\n",
    ".....\n",
    "#.#..\n",
    "###..\n",
    "###.#\n",
    "###.#\n",
    "#####\n",
    "\n",
    ".....\n",
    ".....\n",
    ".....\n",
    "#....\n",
    "#.#..\n",
    "#.#.#\n",
    "#####\"\"\""
   ]
  },
  {
   "cell_type": "code",
   "execution_count": null,
   "metadata": {},
   "outputs": [],
   "source": [
    "with open(\"input.txt\") as f:\n",
    "    input_text = f.read()"
   ]
  },
  {
   "cell_type": "code",
   "execution_count": null,
   "metadata": {},
   "outputs": [],
   "source": [
    "def parse_key(key: str):\n",
    "    arr = np.array([[s for s in line] for line in key.split(\"\\n\")])\n",
    "    key_arr = np.zeros((arr.shape[1]), dtype=int)\n",
    "    for col in range(arr.shape[1]):\n",
    "        for row in range(arr.shape[0]):\n",
    "            if arr[row, col] == \"#\":\n",
    "                break            \n",
    "            key_arr[col] = 5 - row\n",
    "    return key_arr\n",
    "\n",
    "def parse_lock(key: str):\n",
    "    arr = np.array([[s for s in line] for line in key.split(\"\\n\")])\n",
    "    arr = np.array([[s for s in line] for line in key.split(\"\\n\")])\n",
    "    lock_arr = np.zeros((arr.shape[1]), dtype=int)\n",
    "    for col in range(arr.shape[1]):\n",
    "        for row in range(arr.shape[0]):\n",
    "            if arr[row, col] == \".\":\n",
    "                break            \n",
    "            lock_arr[col] = row\n",
    "    return lock_arr\n",
    " \n",
    "def parse(text: str):\n",
    "    objects = text.strip().split(\"\\n\\n\")\n",
    "    keys= []\n",
    "    locks= []\n",
    "    for obj in objects:\n",
    "        if obj[0] == \"#\":\n",
    "            locks.append(parse_lock(obj))\n",
    "        else:\n",
    "            keys.append(parse_key(obj))\n",
    "    return keys, locks"
   ]
  },
  {
   "cell_type": "code",
   "execution_count": null,
   "metadata": {},
   "outputs": [],
   "source": [
    "keys, locks = parse(input_text)\n",
    "\n",
    "combinations = product(keys, locks)\n",
    "control_sum = 0\n",
    "expected = np.ones_like(keys[0]) * 5\n",
    "for key, lock in combinations:\n",
    "    if np.all(key + lock <= expected):\n",
    "        control_sum += 1\n",
    "control_sum"
   ]
  }
 ],
 "metadata": {
  "kernelspec": {
   "display_name": "Python 3",
   "language": "python",
   "name": "python3"
  },
  "language_info": {
   "codemirror_mode": {
    "name": "ipython",
    "version": 3
   },
   "file_extension": ".py",
   "mimetype": "text/x-python",
   "name": "python",
   "nbconvert_exporter": "python",
   "pygments_lexer": "ipython3",
   "version": "3.12.3"
  }
 },
 "nbformat": 4,
 "nbformat_minor": 2
}
